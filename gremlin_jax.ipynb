{
  "nbformat": 4,
  "nbformat_minor": 0,
  "metadata": {
    "colab": {
      "name": "gremlin_jax.ipynb",
      "provenance": [],
      "authorship_tag": "ABX9TyM1c+CNe8CsuMnpJN7uH4MT",
      "include_colab_link": true
    },
    "kernelspec": {
      "name": "python3",
      "display_name": "Python 3"
    },
    "language_info": {
      "name": "python"
    },
    "accelerator": "GPU"
  },
  "cells": [
    {
      "cell_type": "markdown",
      "metadata": {
        "id": "view-in-github",
        "colab_type": "text"
      },
      "source": [
        "<a href=\"https://colab.research.google.com/github/sokrypton/laxy/blob/main/gremlin_jax.ipynb\" target=\"_parent\"><img src=\"https://colab.research.google.com/assets/colab-badge.svg\" alt=\"Open In Colab\"/></a>"
      ]
    },
    {
      "cell_type": "code",
      "metadata": {
        "id": "FjqUBkm8vlfO"
      },
      "source": [
        "!wget -qnc https://raw.githubusercontent.com/sokrypton/laxy/main/laxy.py"
      ],
      "execution_count": 1,
      "outputs": []
    },
    {
      "cell_type": "code",
      "metadata": {
        "id": "aznC2kA8vvSq"
      },
      "source": [
        "import matplotlib.pyplot as plt\n",
        "import jax.numpy as jnp\n",
        "import numpy as np\n",
        "import string\n",
        "\n",
        "from laxy import *"
      ],
      "execution_count": 2,
      "outputs": []
    },
    {
      "cell_type": "markdown",
      "metadata": {
        "id": "Kb8UgjG7wXub"
      },
      "source": [
        "# parse msa"
      ]
    },
    {
      "cell_type": "code",
      "metadata": {
        "id": "K_9w6AR5wXBB"
      },
      "source": [
        "def parse_fasta(filename, a3m=False):\n",
        "  '''function to parse fasta file'''\n",
        "  \n",
        "  if a3m:\n",
        "    # for a3m files the lowercase letters are removed\n",
        "    # as these do not align to the query sequence\n",
        "    rm_lc = str.maketrans(dict.fromkeys(string.ascii_lowercase))\n",
        "    \n",
        "  header, sequence = [],[]\n",
        "  lines = open(filename, \"r\")\n",
        "  for line in lines:\n",
        "    line = line.rstrip()\n",
        "    if line[0] == \">\":\n",
        "      header.append(line[1:])\n",
        "      sequence.append([])\n",
        "    else:\n",
        "      if a3m: line = line.translate(rm_lc)\n",
        "      else: line = line.upper()\n",
        "      sequence[-1].append(line)\n",
        "  lines.close()\n",
        "  sequence = [''.join(seq) for seq in sequence]\n",
        "  \n",
        "  return header, sequence\n",
        "  \n",
        "def mk_msa(seqs):\n",
        "  '''one hot encode msa'''\n",
        "  alphabet = \"ARNDCQEGHILKMFPSTWYV-\"\n",
        "  states = len(alphabet)  \n",
        "  a2n = {a:n for n,a in enumerate(alphabet)}\n",
        "  msa_ori = np.array([[a2n.get(aa, states-1) for aa in seq] for seq in seqs])\n",
        "  return np.eye(states)[msa_ori]"
      ],
      "execution_count": 3,
      "outputs": []
    },
    {
      "cell_type": "code",
      "metadata": {
        "id": "4oid3fEdz6fo"
      },
      "source": [
        "from scipy.spatial.distance import pdist, squareform\n",
        "def get_eff(msa, eff_cutoff=0.8):\n",
        "  if msa.ndim == 3: msa = msa.argmax(-1)    \n",
        "  # pairwise identity  \n",
        "  msa_sm = 1.0 - squareform(pdist(msa,\"hamming\"))\n",
        "  # weight for each sequence\n",
        "  msa_w = (msa_sm >= eff_cutoff).astype(np.float)\n",
        "  msa_w = 1/np.sum(msa_w,-1)\n",
        "  \n",
        "  return msa_w"
      ],
      "execution_count": 4,
      "outputs": []
    },
    {
      "cell_type": "markdown",
      "metadata": {
        "id": "bALuh2dKwZHG"
      },
      "source": [
        "# gremlin"
      ]
    },
    {
      "cell_type": "code",
      "metadata": {
        "id": "nD3gqjVRvo3o"
      },
      "source": [
        "class GREMLIN:\n",
        "  '''GREMLIN implemented in jax'''\n",
        "  \n",
        "  def __init__(self, X, W=None, batch_size=None, lam=0.01):\n",
        "    N,L,A = X.shape\n",
        "    self.X = jnp.array(X)\n",
        "    self.W = jnp.array(W) if W is not None else None\n",
        "    self.batch_size = batch_size\n",
        "\n",
        "    if batch_size is None:\n",
        "      self.lam = lam\n",
        "      self.lr = 0.1 * np.log(N)/L\n",
        "    else:\n",
        "      self.key = KEY()\n",
        "      self.lam = lam * batch_size/N\n",
        "      self.lr = 0.1 * jnp.log(batch_size)/L\n",
        "\n",
        "    # setup the model\n",
        "    def model(params,inputs):\n",
        "      y_logits, l2_loss = MRF(params)(inputs[\"x\"], l2=True)\n",
        "      y = jax.nn.softmax(y_logits,-1)\n",
        "      loss = -(inputs[\"x\"] * jnp.log(y + 1e-8)).sum([1,2])\n",
        "      if self.W is not None:\n",
        "        loss = loss * inputs[\"w\"]\n",
        "      return loss.sum() + self.lam * l2_loss\n",
        "\n",
        "    params = MRF()(L=L,A=A)\n",
        "\n",
        "    # initialize bias\n",
        "    pc = 0.01 * np.log(N)\n",
        "    b_ini = np.log(np.sum(X,0) + pc)\n",
        "    b_ini = b_ini - np.mean(b_ini,-1,keepdims=True)\n",
        "    params[\"b\"] = jnp.array(b_ini)\n",
        "\n",
        "    # setup optimizer\n",
        "    self.opt = OPT(model, params, lr=self.lr)\n",
        "\n",
        "  def get_contacts(self):\n",
        "    '''get contact map from W matrix'''\n",
        "    def _apc(x):\n",
        "      no_diag = (1-jnp.eye(x.shape[0]))\n",
        "      x = x * no_diag\n",
        "      a1,a2 = x.sum(0,keepdims=True),x.sum(1,keepdims=True)\n",
        "      y = x - (a1*a2)/x.sum()\n",
        "      return y * no_diag\n",
        "    w = self.opt.get_params()[\"w\"]\n",
        "    w = (w + w.transpose([2,3,0,1]))/2\n",
        "    raw = jnp.sqrt(jnp.square(w[:,:20,:,:20]).sum((1,3)))\n",
        "    return _apc(raw)\n",
        "    \n",
        "  def fit(self, steps=100, verbose=True):\n",
        "    '''train model'''\n",
        "    \n",
        "    # define inputs\n",
        "    inputs = {\"x\":self.X}\n",
        "    if self.W is not None: inputs[\"w\"] = self.W\n",
        "\n",
        "    # subsample if batch_size defined\n",
        "    if self.batch_size is not None:\n",
        "      def subsample(self, inputs, key):\n",
        "        idx = jax.random.randint(key, shape=(self.batch_size,),\n",
        "                                 minval=0, maxval=inputs[\"x\"].shape[0])\n",
        "        return {k:inputs[k][idx] for k in inputs.keys()}\n",
        "      subsample = jax.jit(subsample)\n",
        "\n",
        "    # fit!\n",
        "    for k in range(steps):\n",
        "      if self.batch_size is not None:\n",
        "        loss = self.opt.train_on_batch(subsample(inputs, self.key.get()))\n",
        "      else:\n",
        "        loss = self.opt.train_on_batch(inputs)\n",
        "      if verbose and (k+1) % (steps//10) == 0:\n",
        "        print(k+1,loss)"
      ],
      "execution_count": 5,
      "outputs": []
    },
    {
      "cell_type": "markdown",
      "metadata": {
        "id": "aXEJSEkXwfV_"
      },
      "source": [
        "#example"
      ]
    },
    {
      "cell_type": "code",
      "metadata": {
        "id": "X_MbKCErwjxu"
      },
      "source": [
        "!wget -qnc https://gremlin2.bakerlab.org/db/PDB_EXP/fasta/4FAZA.fas"
      ],
      "execution_count": 6,
      "outputs": []
    },
    {
      "cell_type": "code",
      "metadata": {
        "colab": {
          "base_uri": "https://localhost:8080/"
        },
        "id": "4ww5YR7kwe0z",
        "outputId": "35c3b52d-bfdc-48de-868c-8b5cc40a6a4e"
      },
      "source": [
        "names, seqs = parse_fasta(\"4FAZA.fas\")\n",
        "msa = mk_msa(seqs)\n",
        "msa_weights = get_eff(msa)\n",
        "print(msa.shape)"
      ],
      "execution_count": 7,
      "outputs": [
        {
          "output_type": "stream",
          "text": [
            "(817, 62, 21)\n"
          ],
          "name": "stdout"
        }
      ]
    },
    {
      "cell_type": "code",
      "metadata": {
        "id": "dA5Px_c-wi8G"
      },
      "source": [
        "model = GREMLIN(msa, msa_weights)"
      ],
      "execution_count": 8,
      "outputs": []
    },
    {
      "cell_type": "code",
      "metadata": {
        "colab": {
          "base_uri": "https://localhost:8080/"
        },
        "id": "37x6pupewqZU",
        "outputId": "04ca0697-7b0d-484f-aedf-68a011b063c6"
      },
      "source": [
        "%%time\n",
        "model.fit()"
      ],
      "execution_count": 9,
      "outputs": [
        {
          "output_type": "stream",
          "text": [
            "10 31093.637\n",
            "20 28594.408\n",
            "30 27666.281\n",
            "40 27281.22\n",
            "50 27105.768\n",
            "60 27021.943\n",
            "70 26976.688\n",
            "80 26949.621\n",
            "90 26931.873\n",
            "100 26919.34\n",
            "CPU times: user 878 ms, sys: 180 ms, total: 1.06 s\n",
            "Wall time: 1.14 s\n"
          ],
          "name": "stdout"
        }
      ]
    },
    {
      "cell_type": "code",
      "metadata": {
        "colab": {
          "base_uri": "https://localhost:8080/",
          "height": 285
        },
        "id": "1pfMiP0TwssR",
        "outputId": "4513bf41-6b0d-4037-82db-3b307a3aa73d"
      },
      "source": [
        "plt.imshow(model.get_contacts())"
      ],
      "execution_count": 10,
      "outputs": [
        {
          "output_type": "execute_result",
          "data": {
            "text/plain": [
              "<matplotlib.image.AxesImage at 0x7fb1fcecfdd0>"
            ]
          },
          "metadata": {
            "tags": []
          },
          "execution_count": 10
        },
        {
          "output_type": "display_data",
          "data": {
            "image/png": "[encoded data removed]",
            "text/plain": [
              "<Figure size 432x288 with 1 Axes>"
            ]
          },
          "metadata": {
            "tags": [],
            "needs_background": "light"
          }
        }
      ]
    },
    {
      "cell_type": "code",
      "metadata": {
        "id": "siElkInDzvBH"
      },
      "source": [
        ""
      ],
      "execution_count": 10,
      "outputs": []
    }
  ]
}