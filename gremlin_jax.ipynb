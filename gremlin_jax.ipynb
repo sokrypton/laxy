{
  "nbformat": 4,
  "nbformat_minor": 0,
  "metadata": {
    "colab": {
      "name": "gremlin_jax.ipynb",
      "provenance": [],
      "authorship_tag": "ABX9TyP2BB+VtLAyGql8B/ZNEWE7",
      "include_colab_link": true
    },
    "kernelspec": {
      "name": "python3",
      "display_name": "Python 3"
    },
    "language_info": {
      "name": "python"
    },
    "accelerator": "GPU"
  },
  "cells": [
    {
      "cell_type": "markdown",
      "metadata": {
        "id": "view-in-github",
        "colab_type": "text"
      },
      "source": [
        "<a href=\"https://colab.research.google.com/github/sokrypton/laxy/blob/main/gremlin_jax.ipynb\" target=\"_parent\"><img src=\"https://colab.research.google.com/assets/colab-badge.svg\" alt=\"Open In Colab\"/></a>"
      ]
    },
    {
      "cell_type": "code",
      "metadata": {
        "id": "FjqUBkm8vlfO"
      },
      "source": [
        "!wget -qnc https://raw.githubusercontent.com/sokrypton/laxy/main/laxy.py"
      ],
      "execution_count": 1,
      "outputs": []
    },
    {
      "cell_type": "code",
      "metadata": {
        "id": "aznC2kA8vvSq"
      },
      "source": [
        "import laxy\n",
        "import jax\n",
        "import jax.numpy as jnp\n",
        "import matplotlib.pyplot as plt\n",
        "import numpy as np\n",
        "import string"
      ],
      "execution_count": 2,
      "outputs": []
    },
    {
      "cell_type": "markdown",
      "metadata": {
        "id": "Kb8UgjG7wXub"
      },
      "source": [
        "# parse msa"
      ]
    },
    {
      "cell_type": "code",
      "metadata": {
        "id": "K_9w6AR5wXBB"
      },
      "source": [
        "def parse_fasta(filename, a3m=False):\n",
        "  '''function to parse fasta file'''\n",
        "  \n",
        "  if a3m:\n",
        "    # for a3m files the lowercase letters are removed\n",
        "    # as these do not align to the query sequence\n",
        "    rm_lc = str.maketrans(dict.fromkeys(string.ascii_lowercase))\n",
        "    \n",
        "  header, sequence = [],[]\n",
        "  lines = open(filename, \"r\")\n",
        "  for line in lines:\n",
        "    line = line.rstrip()\n",
        "    if line[0] == \">\":\n",
        "      header.append(line[1:])\n",
        "      sequence.append([])\n",
        "    else:\n",
        "      if a3m: line = line.translate(rm_lc)\n",
        "      else: line = line.upper()\n",
        "      sequence[-1].append(line)\n",
        "  lines.close()\n",
        "  sequence = [''.join(seq) for seq in sequence]\n",
        "  \n",
        "  return header, sequence\n",
        "  \n",
        "def mk_msa(seqs):\n",
        "  '''one hot encode msa'''\n",
        "  alphabet = \"ARNDCQEGHILKMFPSTWYV-\"\n",
        "  states = len(alphabet)  \n",
        "  a2n = {a:n for n,a in enumerate(alphabet)}\n",
        "  msa_ori = np.array([[a2n.get(aa, states-1) for aa in seq] for seq in seqs])\n",
        "  return np.eye(states)[msa_ori]"
      ],
      "execution_count": 3,
      "outputs": []
    },
    {
      "cell_type": "code",
      "metadata": {
        "id": "4oid3fEdz6fo"
      },
      "source": [
        "from scipy.spatial.distance import pdist, squareform\n",
        "def get_eff(msa, eff_cutoff=0.8):\n",
        "  if msa.ndim == 3: msa = msa.argmax(-1)    \n",
        "  # pairwise identity  \n",
        "  msa_sm = 1.0 - squareform(pdist(msa,\"hamming\"))\n",
        "  # weight for each sequence\n",
        "  msa_w = (msa_sm >= eff_cutoff).astype(np.float)\n",
        "  msa_w = 1/np.sum(msa_w,-1)\n",
        "  \n",
        "  return msa_w"
      ],
      "execution_count": 4,
      "outputs": []
    },
    {
      "cell_type": "markdown",
      "metadata": {
        "id": "bALuh2dKwZHG"
      },
      "source": [
        "# gremlin"
      ]
    },
    {
      "cell_type": "code",
      "metadata": {
        "id": "nD3gqjVRvo3o"
      },
      "source": [
        "class GREMLIN:\n",
        "  '''GREMLIN implemented in jax'''\n",
        "  \n",
        "  def __init__(self, X, W=None, batch_size=None, lam=0.01):\n",
        "    N,L,A = X.shape\n",
        "    self.X = jnp.array(X)\n",
        "    self.W = jnp.array(W) if W is not None else None\n",
        "    self.batch_size = batch_size\n",
        "\n",
        "    if batch_size is None:\n",
        "      learning_rate = 0.1 * np.log(N)/L\n",
        "    else:\n",
        "      lam *= batch_size/N\n",
        "      learning_rate = 0.1 * jnp.log(batch_size)/L\n",
        "\n",
        "    # setup the model\n",
        "    def model(params, inputs):\n",
        "      y_logits, w = laxy.MRF(params)(inputs[\"x\"], return_w=True)\n",
        "      out = jax.nn.softmax(y_logits)\n",
        "\n",
        "      # categorical-crossentropy (or pseudo-likelihood)\n",
        "      cce_loss = -(inputs[\"x\"]*jnp.log(out+1e-8)).sum([1,2])\n",
        "\n",
        "      # weight each example\n",
        "      if self.W is not None: cce_loss *= inputs[\"w\"]\n",
        "\n",
        "      # regularization\n",
        "      l2_loss = 0.5*(L-1)*(A-1)*jnp.square(w).sum() \n",
        "      l2_loss += jnp.square(params[\"b\"]).sum()\n",
        "\n",
        "      loss = cce_loss.sum() + lam * l2_loss\n",
        "      return out, loss\n",
        "\n",
        "    # initialize model params\n",
        "    params = laxy.MRF()(L=L,A=A)\n",
        "\n",
        "    # initialize bias using mean of data\n",
        "    b_ini = np.log(np.sum(X,0) + 0.01 * np.log(N))\n",
        "    params[\"b\"] = jnp.array(b_ini - np.mean(b_ini,-1,keepdims=True))\n",
        "\n",
        "    # setup optimizer\n",
        "    self.opt = laxy.OPT(model, params, lr=learning_rate)\n",
        "\n",
        "  def get_w(self):\n",
        "    w = self.opt.get_params()[\"w\"]\n",
        "    rm_diag = (1-jnp.eye(w.shape[0]))[:,None,:,None]\n",
        "    w = w * rm_diag\n",
        "    return np.array((w + w.transpose([2,3,0,1]))/2)\n",
        "    \n",
        "  def fit(self, steps=100, verbose=True, return_losses=False):\n",
        "    '''train model'''\n",
        "    if self.W is None: inputs = {\"x\":self.X}\n",
        "    else: inputs = {\"x\":self.X,\"w\":self.W}\n",
        "\n",
        "    losses = self.opt.fit(inputs, steps=steps, batch_size=self.batch_size,\n",
        "                         verbose=verbose, return_losses=return_losses)\n",
        "    if return_losses: return losses"
      ],
      "execution_count": 5,
      "outputs": []
    },
    {
      "cell_type": "markdown",
      "metadata": {
        "id": "aXEJSEkXwfV_"
      },
      "source": [
        "#example"
      ]
    },
    {
      "cell_type": "code",
      "metadata": {
        "id": "X_MbKCErwjxu"
      },
      "source": [
        "!wget -qnc https://gremlin2.bakerlab.org/db/PDB_EXP/fasta/4FAZA.fas"
      ],
      "execution_count": 6,
      "outputs": []
    },
    {
      "cell_type": "code",
      "metadata": {
        "colab": {
          "base_uri": "https://localhost:8080/"
        },
        "id": "4ww5YR7kwe0z",
        "outputId": "9ae64c78-837e-449e-f3b2-5f0fb3fe9c25"
      },
      "source": [
        "names, seqs = parse_fasta(\"4FAZA.fas\")\n",
        "msa = mk_msa(seqs)\n",
        "msa_weights = get_eff(msa)\n",
        "print(msa.shape)"
      ],
      "execution_count": 7,
      "outputs": [
        {
          "output_type": "stream",
          "text": [
            "(817, 62, 21)\n"
          ],
          "name": "stdout"
        }
      ]
    },
    {
      "cell_type": "code",
      "metadata": {
        "id": "dA5Px_c-wi8G"
      },
      "source": [
        "model = GREMLIN(msa, msa_weights, batch_size=None)"
      ],
      "execution_count": 16,
      "outputs": []
    },
    {
      "cell_type": "code",
      "metadata": {
        "colab": {
          "base_uri": "https://localhost:8080/"
        },
        "id": "37x6pupewqZU",
        "outputId": "fd903259-1ba4-4727-a6af-d4cbe0db4b31"
      },
      "source": [
        "%%time\n",
        "model.fit()"
      ],
      "execution_count": 17,
      "outputs": [
        {
          "output_type": "stream",
          "text": [
            "10 31093.637\n",
            "20 28594.41\n",
            "30 27666.285\n",
            "40 27281.223\n",
            "50 27105.771\n",
            "60 27021.943\n",
            "70 26976.688\n",
            "80 26949.621\n",
            "90 26931.875\n",
            "100 26919.34\n",
            "CPU times: user 635 ms, sys: 79.2 ms, total: 714 ms\n",
            "Wall time: 507 ms\n"
          ],
          "name": "stdout"
        }
      ]
    },
    {
      "cell_type": "code",
      "metadata": {
        "id": "EUScJOmSoLeN",
        "colab": {
          "base_uri": "https://localhost:8080/"
        },
        "outputId": "40adb4e2-dfbd-4588-9457-4b670277b1d0"
      },
      "source": [
        "%%time\n",
        "# note if you run fit again, it will continue optimization\n",
        "# the first time was a little slower due to compile time\n",
        "model.fit()"
      ],
      "execution_count": 18,
      "outputs": [
        {
          "output_type": "stream",
          "text": [
            "10 26910.025\n",
            "20 26902.922\n",
            "30 26897.398\n",
            "40 26893.037\n",
            "50 26889.562\n",
            "60 26886.777\n",
            "70 26884.512\n",
            "80 26882.662\n",
            "90 26881.148\n",
            "100 26879.883\n",
            "CPU times: user 105 ms, sys: 64.1 ms, total: 169 ms\n",
            "Wall time: 155 ms\n"
          ],
          "name": "stdout"
        }
      ]
    },
    {
      "cell_type": "code",
      "metadata": {
        "id": "pEbKXS3kP7Xc"
      },
      "source": [
        "W = model.get_w()"
      ],
      "execution_count": 19,
      "outputs": []
    },
    {
      "cell_type": "code",
      "metadata": {
        "id": "_b-2TRUbP8tn"
      },
      "source": [
        "def get_mtx(W):\n",
        "  # l2norm of 20x20 matrices (note: we ignore gaps)\n",
        "  raw = np.sqrt(np.sum(np.square(W[:,:20,:,:20]),(1,3)))\n",
        "  np.fill_diagonal(raw,0)\n",
        "\n",
        "  # apc (average product correction)\n",
        "  ap = np.sum(raw,0,keepdims=True)*np.sum(raw,1,keepdims=True)/np.sum(raw)\n",
        "  apc = raw - ap\n",
        "  np.fill_diagonal(apc,0)\n",
        "  \n",
        "  return(raw,apc)"
      ],
      "execution_count": 20,
      "outputs": []
    },
    {
      "cell_type": "code",
      "metadata": {
        "colab": {
          "base_uri": "https://localhost:8080/",
          "height": 317
        },
        "id": "1pfMiP0TwssR",
        "outputId": "3b781e5b-02ed-4eae-eb26-297a3c914aef"
      },
      "source": [
        "raw, apc = get_mtx(W)\n",
        "plt.figure(figsize=(10,5))\n",
        "plt.subplot(1,2,1);plt.title(\"raw\");plt.imshow(raw)\n",
        "plt.subplot(1,2,2);plt.title(\"apc\");plt.imshow(apc)\n",
        "plt.show()"
      ],
      "execution_count": 21,
      "outputs": [
        {
          "output_type": "display_data",
          "data": {
            "image/png": "[encoded data removed]",
            "text/plain": [
              "<Figure size 720x360 with 2 Axes>"
            ]
          },
          "metadata": {
            "tags": [],
            "needs_background": "light"
          }
        }
      ]
    },
    {
      "cell_type": "code",
      "metadata": {
        "id": "siElkInDzvBH"
      },
      "source": [
        ""
      ],
      "execution_count": null,
      "outputs": []
    }
  ]
}