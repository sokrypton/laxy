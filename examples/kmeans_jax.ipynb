{
  "nbformat": 4,
  "nbformat_minor": 0,
  "metadata": {
    "colab": {
      "name": "kmeans_jax.ipynb",
      "provenance": [],
      "authorship_tag": "ABX9TyNo+3uS0M2WOfk1EZwrcrwq",
      "include_colab_link": true
    },
    "kernelspec": {
      "name": "python3",
      "display_name": "Python 3"
    },
    "language_info": {
      "name": "python"
    },
    "accelerator": "GPU"
  },
  "cells": [
    {
      "cell_type": "markdown",
      "metadata": {
        "id": "view-in-github",
        "colab_type": "text"
      },
      "source": [
        "<a href=\"https://colab.research.google.com/github/sokrypton/laxy/blob/main/examples/kmeans_jax.ipynb\" target=\"_parent\"><img src=\"https://colab.research.google.com/assets/colab-badge.svg\" alt=\"Open In Colab\"/></a>"
      ]
    },
    {
      "cell_type": "code",
      "metadata": {
        "id": "R5JpfXPxKRTa"
      },
      "source": [
        "# code inspiration credit:\n",
        "# https://github.com/scikit-learn/scikit-learn/blob/main/sklearn/cluster/_kmeans.py\n",
        "# https://github.com/shpotes/clustering/blob/master/src/_kmeans.py"
      ],
      "execution_count": null,
      "outputs": []
    },
    {
      "cell_type": "code",
      "metadata": {
        "id": "8PK14j-C554T"
      },
      "source": [
        "import jax\n",
        "import jax.numpy as jnp\n",
        "from math import log\n",
        "import numpy as np\n",
        "import matplotlib.pyplot as plt"
      ],
      "execution_count": null,
      "outputs": []
    },
    {
      "cell_type": "markdown",
      "metadata": {
        "id": "d0OHzPYh8QVL"
      },
      "source": [
        "kmeans"
      ]
    },
    {
      "cell_type": "code",
      "metadata": {
        "id": "9s_QXis971H7"
      },
      "source": [
        "def _dist(a,b):\n",
        "  sm = a @ b.T\n",
        "  a_norm = jnp.square(a).sum(-1)\n",
        "  b_norm = jnp.square(b).sum(-1)\n",
        "  return jnp.abs(a_norm[:,None] + b_norm[None,:] - 2 * sm)\n",
        "\n",
        "def _kmeans_plus_plus(key, X, X_weight, n_clusters):\n",
        "  '''kmeans++ implemented in jax, for initialization'''\n",
        "  n_samples, n_features = X.shape\n",
        "  n_candidates = 2 + int(log(n_clusters))\n",
        "  \n",
        "  def loop(m,c):\n",
        "    n,k = c\n",
        "    inf_mask = jnp.inf * (jnp.arange(n_clusters) > n)\n",
        "    p = (inf_mask + _dist(X,m)).min(-1)\n",
        "\n",
        "    # sample candidates\n",
        "    candidates = jax.random.choice(k, jnp.arange(n_samples),\n",
        "                                   shape=(n_candidates,),\n",
        "                                   p=p/p.sum(), replace=False)\n",
        "    \n",
        "    # pick sample that decreases inertia the most\n",
        "    dist = jnp.minimum(p[:,None],_dist(X,X[candidates]))\n",
        "    i = candidates[(X_weight[:,None] * dist).sum(0).argmin()]\n",
        "    return m.at[n].set(X[i]), None\n",
        "\n",
        "  i = jax.random.choice(key,jnp.arange(n_samples))\n",
        "  init_means = jnp.zeros((n_clusters,n_features)).at[0].set(X[i])\n",
        "  carry = (jnp.arange(1,n_clusters), jax.random.split(key, n_clusters-1))\n",
        "  return jax.lax.scan(loop, init_means, carry)[0]"
      ],
      "execution_count": null,
      "outputs": []
    },
    {
      "cell_type": "code",
      "metadata": {
        "id": "hV7w9zFQ54u6"
      },
      "source": [
        "def kmeans(X, X_weight, n_clusters=8, n_init=10, max_iter=300, tol=1e-4, seed=0):\n",
        "  '''kmeans implemented in jax'''\n",
        "  def _E(means):\n",
        "    # get labels\n",
        "    return jax.nn.one_hot(_dist(X,means).argmin(-1), n_clusters)\n",
        "\n",
        "  def _M(labels):\n",
        "    # get means\n",
        "    labels = labels * X_weight[:,None]\n",
        "    labels /= labels.sum(0) + 1e-8\n",
        "    return labels.T @ X\n",
        "  \n",
        "  def _inertia(means):\n",
        "    # compute score: sum(min(dist(X,means)))\n",
        "    sco = _dist(X,means).min(-1)\n",
        "    return (X_weight * sco).sum()\n",
        "\n",
        "  def single_run(key):\n",
        "    # initialize\n",
        "    init_means = _kmeans_plus_plus(key, X, X_weight, n_clusters)\n",
        "\n",
        "    # run EM\n",
        "    if tol == 0:\n",
        "      means = jax.lax.scan(lambda mu,_:(_M(_E(mu)),None), init_means,\n",
        "                           None, length=max_iter)[0]\n",
        "    else:\n",
        "      def EM(x):\n",
        "        old_mu, old_sco, _, n = x\n",
        "        new_mu = _M(_E(old_mu))\n",
        "        new_sco = _inertia(new_mu)\n",
        "        return new_mu, new_sco, old_sco, n+1\n",
        "      def check(x):\n",
        "        _, new_sco, old_sco, n = x\n",
        "        return ((old_sco-new_sco) > tol) & (n < max_iter)\n",
        "      init = EM((init_means,jnp.inf,None,0))\n",
        "      means = jax.lax.while_loop(check, EM, init)[0]\n",
        "\n",
        "    return {\"means\":means,\n",
        "            \"labels\":_E(means),\n",
        "            \"inertia\":_inertia(means)}\n",
        "\n",
        "  # mulitple runs\n",
        "  key = jax.random.PRNGKey(seed)\n",
        "  if n_init > 0:\n",
        "    out = jax.vmap(single_run)(jax.random.split(key,n_init))\n",
        "    i = out[\"inertia\"].argmin()\n",
        "    out = {k:v[i] for k,v in out.items()}\n",
        "  else:\n",
        "    out = single_run(key)\n",
        "\n",
        "  cat = (out[\"labels\"] * X_weight[:,None]).sum(0) / X_weight.sum()\n",
        "  return {**out, \"cat\":cat}"
      ],
      "execution_count": null,
      "outputs": []
    },
    {
      "cell_type": "code",
      "metadata": {
        "colab": {
          "base_uri": "https://localhost:8080/",
          "height": 320
        },
        "id": "jtcc9zH3DBvF",
        "outputId": "464ea549-4012-461e-dc9d-65c1c803dd64"
      },
      "source": [
        "from sklearn.datasets import make_blobs\n",
        "plt.figure(figsize=(5,5))\n",
        "X, y_true = make_blobs(n_samples=300, centers=4,\n",
        "                       cluster_std=0.60, random_state=0)\n",
        "plt.scatter(X[:, 0], X[:, 1], s=50)\n",
        "plt.show()"
      ],
      "execution_count": null,
      "outputs": [
        {
          "output_type": "display_data",
          "data": {
            "image/png": "[encoded data removed]",
            "text/plain": [
              "<Figure size 360x360 with 1 Axes>"
            ]
          },
          "metadata": {
            "tags": [],
            "needs_background": "light"
          }
        }
      ]
    },
    {
      "cell_type": "code",
      "metadata": {
        "id": "0DvinTUGlfwO"
      },
      "source": [
        "# jit compile kmeans\n",
        "kmeans_jit = jax.jit(kmeans,static_argnums=(2,3,4,5,6))"
      ],
      "execution_count": null,
      "outputs": []
    },
    {
      "cell_type": "code",
      "metadata": {
        "colab": {
          "base_uri": "https://localhost:8080/"
        },
        "id": "RO3qpoABlsQl",
        "outputId": "09f342a8-2ed5-41ee-da70-17e0149851f7"
      },
      "source": [
        "%%time\n",
        "# first time is \"slow\" since it needs to compile\n",
        "kms = kmeans_jit(jnp.array(X), jnp.ones(X.shape[0]), 4)\n",
        "print(kms[\"inertia\"])"
      ],
      "execution_count": null,
      "outputs": [
        {
          "output_type": "stream",
          "text": [
            "212.00592\n",
            "CPU times: user 2.11 s, sys: 475 ms, total: 2.58 s\n",
            "Wall time: 2.49 s\n"
          ],
          "name": "stdout"
        }
      ]
    },
    {
      "cell_type": "code",
      "metadata": {
        "colab": {
          "base_uri": "https://localhost:8080/"
        },
        "id": "w7bmC9M9sEaP",
        "outputId": "575274a1-04c1-45c9-a6e7-2909be024077"
      },
      "source": [
        "%%time\n",
        "kms = kmeans_jit(jnp.array(X), jnp.ones(X.shape[0]), 4)\n",
        "print(kms[\"inertia\"])"
      ],
      "execution_count": null,
      "outputs": [
        {
          "output_type": "stream",
          "text": [
            "212.00592\n",
            "CPU times: user 4.62 ms, sys: 911 µs, total: 5.53 ms\n",
            "Wall time: 7.98 ms\n"
          ],
          "name": "stdout"
        }
      ]
    },
    {
      "cell_type": "code",
      "metadata": {
        "colab": {
          "base_uri": "https://localhost:8080/",
          "height": 320
        },
        "id": "-a_s_5-o6kon",
        "outputId": "c36898ce-983e-4d28-c82d-0c95b7b2b93f"
      },
      "source": [
        "plt.figure(figsize=(5,5))\n",
        "plt.scatter(X[:,0],X[:,1],c=kms[\"labels\"].argmax(-1))\n",
        "plt.show()"
      ],
      "execution_count": null,
      "outputs": [
        {
          "output_type": "display_data",
          "data": {
            "image/png": "[encoded data removed]",
            "text/plain": [
              "<Figure size 360x360 with 1 Axes>"
            ]
          },
          "metadata": {
            "tags": [],
            "needs_background": "light"
          }
        }
      ]
    },
    {
      "cell_type": "markdown",
      "metadata": {
        "id": "CfEQprZqsT9e"
      },
      "source": [
        "# compare to sklearn"
      ]
    },
    {
      "cell_type": "code",
      "metadata": {
        "id": "XAmuILewsSPk"
      },
      "source": [
        "from sklearn.cluster import KMeans"
      ],
      "execution_count": null,
      "outputs": []
    },
    {
      "cell_type": "code",
      "metadata": {
        "colab": {
          "base_uri": "https://localhost:8080/"
        },
        "id": "XfJ3o0o-n3De",
        "outputId": "15515051-fc01-4435-c167-5173e63c15a2"
      },
      "source": [
        "# harder problem?\n",
        "X, y_true = make_blobs(n_samples=10000, n_features=100, centers=32,\n",
        "                       cluster_std=1.0, random_state=0)\n",
        "true_means = np.array([np.mean(X[y_true == i],0) for i in range(32)])\n",
        "_dist(jnp.array(X),jnp.array(true_means)).min(-1).sum()"
      ],
      "execution_count": null,
      "outputs": [
        {
          "output_type": "execute_result",
          "data": {
            "text/plain": [
              "DeviceArray(996697.9, dtype=float32)"
            ]
          },
          "metadata": {
            "tags": []
          },
          "execution_count": 11
        }
      ]
    },
    {
      "cell_type": "code",
      "metadata": {
        "colab": {
          "base_uri": "https://localhost:8080/"
        },
        "id": "qK5WR_yxn7Tx",
        "outputId": "ececbd7c-6531-4875-e489-d61bfcb32ba0"
      },
      "source": [
        "%%time\n",
        "kms = KMeans(32).fit(X)\n",
        "print(kms.inertia_)"
      ],
      "execution_count": null,
      "outputs": [
        {
          "output_type": "stream",
          "text": [
            "996697.6971604618\n",
            "CPU times: user 1.65 s, sys: 824 ms, total: 2.47 s\n",
            "Wall time: 1.29 s\n"
          ],
          "name": "stdout"
        }
      ]
    },
    {
      "cell_type": "code",
      "metadata": {
        "colab": {
          "base_uri": "https://localhost:8080/"
        },
        "id": "IKBDfLuCpCdK",
        "outputId": "e492e33d-0413-4d41-81bc-68e166f55154"
      },
      "source": [
        "%%time\n",
        "# first time is \"slow\" since it needs to compile\n",
        "kms = kmeans_jit(jnp.array(X), jnp.ones(X.shape[0]), 32)\n",
        "print(kms[\"inertia\"])"
      ],
      "execution_count": null,
      "outputs": [
        {
          "output_type": "stream",
          "text": [
            "996697.7\n",
            "CPU times: user 2.13 s, sys: 23.4 ms, total: 2.16 s\n",
            "Wall time: 2.17 s\n"
          ],
          "name": "stdout"
        }
      ]
    },
    {
      "cell_type": "code",
      "metadata": {
        "id": "PJPBtRge_MH1",
        "colab": {
          "base_uri": "https://localhost:8080/"
        },
        "outputId": "4a8a3ef2-dd1b-4479-e5ce-7cc70b921d59"
      },
      "source": [
        "%%time\n",
        "kms = kmeans_jit(jnp.array(X), jnp.ones(X.shape[0]), 32)\n",
        "print(kms[\"inertia\"])"
      ],
      "execution_count": null,
      "outputs": [
        {
          "output_type": "stream",
          "text": [
            "996697.7\n",
            "CPU times: user 32.6 ms, sys: 884 µs, total: 33.5 ms\n",
            "Wall time: 32.8 ms\n"
          ],
          "name": "stdout"
        }
      ]
    },
    {
      "cell_type": "markdown",
      "metadata": {
        "id": "jpcmAf4s6tHU"
      },
      "source": [
        "# Useless experiments\n",
        "backprop through kmeans??"
      ]
    },
    {
      "cell_type": "code",
      "metadata": {
        "id": "kdnfdCM-7BuR"
      },
      "source": [
        "!wget -qnc https://raw.githubusercontent.com/sokrypton/laxy/main/laxy.py\n",
        "import laxy"
      ],
      "execution_count": null,
      "outputs": []
    },
    {
      "cell_type": "code",
      "metadata": {
        "id": "UX_04pvn7lhr"
      },
      "source": [
        "def diff_kmeans(X, X_weight, n_clusters=8,\n",
        "               em_steps=10, iters=1000, seed=0):\n",
        "  '''kmeans implemented in jax'''\n",
        "\n",
        "  # initialize mean params with _kmeans_plus_plus\n",
        "  key = jax.random.PRNGKey(seed)\n",
        "  params = {\"means\":_kmeans_plus_plus(key, X, X_weight, n_clusters)}\n",
        "  inputs = {\"X\":X, \"X_weight\":X_weight}\n",
        "\n",
        "  def model(params, inputs):\n",
        "    def _E(means):\n",
        "      # get labels\n",
        "      dist = _dist(inputs[\"X\"],means)\n",
        "      soft_labels = jax.nn.softmax(-dist/inputs[\"X\"].shape[1])\n",
        "      hard_labels = jax.nn.one_hot(dist.argmin(-1), n_clusters)\n",
        "      return jax.lax.stop_gradient(hard_labels - soft_labels) + soft_labels\n",
        "\n",
        "    def _M(labels):\n",
        "      # get means\n",
        "      labels = labels * inputs[\"X_weight\"][:,None]\n",
        "      labels /= labels.sum(0) + 1e-8\n",
        "      return labels.T @ inputs[\"X\"]\n",
        "    \n",
        "    means = jax.lax.scan(lambda mu,_:(_M(_E(mu)),None), params[\"means\"],\n",
        "                         None, length=em_steps)[0]\n",
        "\n",
        "    inertia = _dist(X,means).min(-1)\n",
        "    return means, (inputs[\"X_weight\"] * inertia).sum()\n",
        "\n",
        "  opt = laxy.OPT(model, params, lr=1e-2)\n",
        "  opt.fit(inputs, iters)\n",
        "  means = opt.predict(inputs)\n",
        "  inertia = opt.evaluate(inputs)\n",
        "  return {\"means\":means,\n",
        "          \"inertia\":inertia}"
      ],
      "execution_count": null,
      "outputs": []
    },
    {
      "cell_type": "code",
      "metadata": {
        "colab": {
          "base_uri": "https://localhost:8080/"
        },
        "id": "J513ZMEc_6iR",
        "outputId": "97ca8e8b-697f-429a-e0e4-3d02847429d7"
      },
      "source": [
        "kms = diff_kmeans(jnp.array(X), jnp.ones(X.shape[0]),\n",
        "                 n_clusters=32, em_steps=0)"
      ],
      "execution_count": null,
      "outputs": [
        {
          "output_type": "stream",
          "text": [
            "100 1178672.2\n",
            "200 1031705.7\n",
            "300 1003447.75\n",
            "400 997981.3\n",
            "500 996940.44\n",
            "600 996744.0\n",
            "700 996706.3\n",
            "800 996698.94\n",
            "900 996698.0\n",
            "1000 996697.25\n"
          ],
          "name": "stdout"
        }
      ]
    },
    {
      "cell_type": "code",
      "metadata": {
        "colab": {
          "base_uri": "https://localhost:8080/"
        },
        "id": "9PB5_WRjqxRo",
        "outputId": "f93846dc-c445-4be3-cde3-e0566d710108"
      },
      "source": [
        "kms = diff_kmeans(jnp.array(X), jnp.ones(X.shape[0]),\n",
        "                 n_clusters=32, em_steps=10)"
      ],
      "execution_count": null,
      "outputs": [
        {
          "output_type": "stream",
          "text": [
            "100 996697.75\n",
            "200 996697.75\n",
            "300 996697.75\n",
            "400 996697.75\n",
            "500 996697.75\n",
            "600 996697.75\n",
            "700 996697.75\n",
            "800 996697.75\n",
            "900 996697.75\n",
            "1000 996697.75\n"
          ],
          "name": "stdout"
        }
      ]
    },
    {
      "cell_type": "code",
      "metadata": {
        "id": "hYKb7cMMc4P3"
      },
      "source": [
        ""
      ],
      "execution_count": null,
      "outputs": []
    }
  ]
}