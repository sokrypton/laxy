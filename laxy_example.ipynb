{
  "nbformat": 4,
  "nbformat_minor": 0,
  "metadata": {
    "colab": {
      "name": "laxy_example.ipynb",
      "provenance": [],
      "authorship_tag": "ABX9TyN2EokLo1Xjj4SoauFr3Dw8",
      "include_colab_link": true
    },
    "kernelspec": {
      "name": "python3",
      "display_name": "Python 3"
    },
    "language_info": {
      "name": "python"
    }
  },
  "cells": [
    {
      "cell_type": "markdown",
      "metadata": {
        "id": "view-in-github",
        "colab_type": "text"
      },
      "source": [
        "<a href=\"https://colab.research.google.com/github/sokrypton/laxy/blob/main/laxy_example.ipynb\" target=\"_parent\"><img src=\"https://colab.research.google.com/assets/colab-badge.svg\" alt=\"Open In Colab\"/></a>"
      ]
    },
    {
      "cell_type": "code",
      "metadata": {
        "id": "Z8AuNIdllasq"
      },
      "source": [
        "!wget -qnc https://raw.githubusercontent.com/sokrypton/laxy/main/laxy.py"
      ],
      "execution_count": 1,
      "outputs": []
    },
    {
      "cell_type": "code",
      "metadata": {
        "id": "55flQHoolc94"
      },
      "source": [
        "import matplotlib.pyplot as plt\n",
        "import jax.numpy as jnp\n",
        "import numpy as np\n",
        "from laxy import *"
      ],
      "execution_count": 2,
      "outputs": []
    },
    {
      "cell_type": "markdown",
      "metadata": {
        "id": "-HpW-Wz0nzRE"
      },
      "source": [
        "# LINEAR REGRESSION"
      ]
    },
    {
      "cell_type": "code",
      "metadata": {
        "colab": {
          "base_uri": "https://localhost:8080/"
        },
        "id": "oyVolJvelkEb",
        "outputId": "83cc6f4a-6dda-48b2-e21a-acdf62ac9f5d"
      },
      "source": [
        "x = jnp.arange(10)\n",
        "y = x*2.0 + 3.0"
      ],
      "execution_count": 3,
      "outputs": [
        {
          "output_type": "stream",
          "text": [
            "WARNING:absl:No GPU/TPU found, falling back to CPU. (Set TF_CPP_MIN_LOG_LEVEL=0 and rerun for more info.)\n"
          ],
          "name": "stderr"
        }
      ]
    },
    {
      "cell_type": "code",
      "metadata": {
        "colab": {
          "base_uri": "https://localhost:8080/",
          "height": 282
        },
        "id": "wvqUeSc3lwgk",
        "outputId": "9ebfabae-f180-4a4d-9183-218df2bb1c9c"
      },
      "source": [
        "plt.scatter(x,y)"
      ],
      "execution_count": 4,
      "outputs": [
        {
          "output_type": "execute_result",
          "data": {
            "text/plain": [
              "<matplotlib.collections.PathCollection at 0x7f6631f8e8d0>"
            ]
          },
          "metadata": {
            "tags": []
          },
          "execution_count": 4
        },
        {
          "output_type": "display_data",
          "data": {
            "image/png": "[encoded data removed]",
            "text/plain": [
              "<Figure size 432x288 with 1 Axes>"
            ]
          },
          "metadata": {
            "tags": [],
            "needs_background": "light"
          }
        }
      ]
    },
    {
      "cell_type": "code",
      "metadata": {
        "id": "EzUv13lKlwvx"
      },
      "source": [
        "def model(params, inputs):\n",
        "  y = inputs[\"x\"] * params[\"m\"] + params[\"b\"]\n",
        "  loss = jnp.square(inputs[\"y\"] - y).sum()\n",
        "  return loss"
      ],
      "execution_count": 5,
      "outputs": []
    },
    {
      "cell_type": "code",
      "metadata": {
        "id": "yNYUIBi2mJq_"
      },
      "source": [
        "inputs = {\"x\":x, \"y\":y}\n",
        "params = {\"m\":1.0,\"b\":0.0}"
      ],
      "execution_count": 6,
      "outputs": []
    },
    {
      "cell_type": "code",
      "metadata": {
        "id": "ZyF0blxXlxDz"
      },
      "source": [
        "opt = OPT(model, params)"
      ],
      "execution_count": 7,
      "outputs": []
    },
    {
      "cell_type": "code",
      "metadata": {
        "id": "MqLMC-83Jq6c",
        "outputId": "1e6af2bc-3725-49c0-c729-38a58f5856de",
        "colab": {
          "base_uri": "https://localhost:8080/"
        }
      },
      "source": [
        "losses = opt.fit(inputs, steps=10000)"
      ],
      "execution_count": 8,
      "outputs": [
        {
          "output_type": "stream",
          "text": [
            "1000 97.57238\n",
            "2000 11.032278\n",
            "3000 6.2381396\n",
            "4000 4.2776027\n",
            "5000 2.339671\n",
            "6000 0.90313137\n",
            "7000 0.2005393\n",
            "8000 0.017665602\n",
            "9000 0.0003205021\n",
            "10000 4.0911215e-07\n"
          ],
          "name": "stdout"
        }
      ]
    },
    {
      "cell_type": "code",
      "metadata": {
        "colab": {
          "base_uri": "https://localhost:8080/",
          "height": 282
        },
        "id": "DlLkOtaGmrVq",
        "outputId": "4c1d4ec0-09cf-44c4-c6d6-dccd34555efc"
      },
      "source": [
        "plt.plot(losses)"
      ],
      "execution_count": 9,
      "outputs": [
        {
          "output_type": "execute_result",
          "data": {
            "text/plain": [
              "[<matplotlib.lines.Line2D at 0x7f661e21cd90>]"
            ]
          },
          "metadata": {
            "tags": []
          },
          "execution_count": 9
        },
        {
          "output_type": "display_data",
          "data": {
            "image/png": "[encoded data removed]",
            "text/plain": [
              "<Figure size 432x288 with 1 Axes>"
            ]
          },
          "metadata": {
            "tags": [],
            "needs_background": "light"
          }
        }
      ]
    },
    {
      "cell_type": "code",
      "metadata": {
        "colab": {
          "base_uri": "https://localhost:8080/"
        },
        "id": "WYs7W_r6msA6",
        "outputId": "b77c2364-6061-40e8-e5df-35b43bf8a6b8"
      },
      "source": [
        "opt.get_params()"
      ],
      "execution_count": 10,
      "outputs": [
        {
          "output_type": "execute_result",
          "data": {
            "text/plain": [
              "{'b': DeviceArray(2.9996269, dtype=float32),\n",
              " 'm': DeviceArray(2.0000622, dtype=float32)}"
            ]
          },
          "metadata": {
            "tags": []
          },
          "execution_count": 10
        }
      ]
    },
    {
      "cell_type": "code",
      "metadata": {
        "colab": {
          "base_uri": "https://localhost:8080/"
        },
        "id": "kFWxPF6zmx2-",
        "outputId": "81267f4c-d64c-4516-961f-d6a56c7feff0"
      },
      "source": [
        "opt.get_loss(inputs)"
      ],
      "execution_count": 11,
      "outputs": [
        {
          "output_type": "execute_result",
          "data": {
            "text/plain": [
              "DeviceArray(4.0625906e-07, dtype=float32)"
            ]
          },
          "metadata": {
            "tags": []
          },
          "execution_count": 11
        }
      ]
    },
    {
      "cell_type": "markdown",
      "metadata": {
        "id": "d3GR475Gn1Y5"
      },
      "source": [
        "# build a NN using custom layers from laxy\n",
        "custom layers include: MRF, Conv1D, Conv2D, GRU, Dense"
      ]
    },
    {
      "cell_type": "code",
      "metadata": {
        "id": "wm9GSpANoQcR"
      },
      "source": [
        "params = {\"D0\": Dense()(in_dims=10, out_dims=5),\n",
        "          \"D1\": Dense()(in_dims=5, out_dims=1),\n",
        "          \"a\":1.0}"
      ],
      "execution_count": 12,
      "outputs": []
    },
    {
      "cell_type": "code",
      "metadata": {
        "id": "Mw3nNitvm8Uu"
      },
      "source": [
        "def model(params, inputs):\n",
        "  I = inputs[\"x\"]\n",
        "  D = Dense(params[\"D0\"])(I)\n",
        "  D = jax.nn.elu(D)\n",
        "  O = Dense(params[\"D1\"])(D) * params[\"a\"]\n",
        "  loss = jnp.square(O - inputs[\"y\"]).sum()\n",
        "  return loss"
      ],
      "execution_count": 13,
      "outputs": []
    },
    {
      "cell_type": "code",
      "metadata": {
        "id": "Dkg3ivN5WBkB"
      },
      "source": [
        "opt = OPT(model, params)"
      ],
      "execution_count": 14,
      "outputs": []
    },
    {
      "cell_type": "code",
      "metadata": {
        "id": "y7plGwyUWL4j"
      },
      "source": [
        "inputs = {\"x\":np.random.normal(size=(100,10)),\n",
        "          \"y\":np.random.normal(size=(100,1))}"
      ],
      "execution_count": 15,
      "outputs": []
    },
    {
      "cell_type": "code",
      "metadata": {
        "id": "8cfwvvOoWrhD",
        "outputId": "7bd4f0ba-c4ff-41a7-d7e3-b70c98a76681",
        "colab": {
          "base_uri": "https://localhost:8080/"
        }
      },
      "source": [
        "%%time\n",
        "losses = opt.fit(inputs, steps=1000)"
      ],
      "execution_count": 16,
      "outputs": [
        {
          "output_type": "stream",
          "text": [
            "100 104.57703\n",
            "200 86.07533\n",
            "300 79.20316\n",
            "400 75.970116\n",
            "500 73.85148\n",
            "600 71.89831\n",
            "700 69.51507\n",
            "800 66.25847\n",
            "900 62.849216\n",
            "1000 60.02617\n",
            "CPU times: user 1.62 s, sys: 40.7 ms, total: 1.66 s\n",
            "Wall time: 1.65 s\n"
          ],
          "name": "stdout"
        }
      ]
    },
    {
      "cell_type": "code",
      "metadata": {
        "colab": {
          "base_uri": "https://localhost:8080/",
          "height": 284
        },
        "id": "_kqhXhgEWvPR",
        "outputId": "b7a942cc-98e4-49e8-dc31-8de6b9eb3a30"
      },
      "source": [
        "plt.plot(losses)"
      ],
      "execution_count": 17,
      "outputs": [
        {
          "output_type": "execute_result",
          "data": {
            "text/plain": [
              "[<matplotlib.lines.Line2D at 0x7f661e1f7b10>]"
            ]
          },
          "metadata": {
            "tags": []
          },
          "execution_count": 17
        },
        {
          "output_type": "display_data",
          "data": {
            "image/png": "[encoded data removed]",
            "text/plain": [
              "<Figure size 432x288 with 1 Axes>"
            ]
          },
          "metadata": {
            "tags": [],
            "needs_background": "light"
          }
        }
      ]
    },
    {
      "cell_type": "markdown",
      "metadata": {
        "id": "LV-0wdfM7xaR"
      },
      "source": [
        "#STAX"
      ]
    },
    {
      "cell_type": "code",
      "metadata": {
        "id": "vIvYv9Na7yAG"
      },
      "source": [
        "from jax.experimental import stax"
      ],
      "execution_count": 18,
      "outputs": []
    },
    {
      "cell_type": "code",
      "metadata": {
        "id": "yZJ_Yvd5BLgE"
      },
      "source": [
        "stax_layers = stax.serial(stax.Dense(5),\n",
        "                          stax.Elu,\n",
        "                          stax.Dense(1))\n",
        "nn_params, nn_layers = STAX(stax_layers, (None,10))"
      ],
      "execution_count": 19,
      "outputs": []
    },
    {
      "cell_type": "code",
      "metadata": {
        "id": "K-MH5TG78ilc"
      },
      "source": [
        "params = {\"nn\":nn_params,\n",
        "          \"a\":1.0}"
      ],
      "execution_count": 20,
      "outputs": []
    },
    {
      "cell_type": "code",
      "metadata": {
        "id": "46M-bkwv8xqe"
      },
      "source": [
        "def model(params, inputs):\n",
        "  I = inputs[\"x\"]\n",
        "  O = nn_layers(params[\"nn\"], I) * params[\"a\"]\n",
        "  loss = jnp.square(O - inputs[\"y\"]).sum()\n",
        "  return loss"
      ],
      "execution_count": 21,
      "outputs": []
    },
    {
      "cell_type": "code",
      "metadata": {
        "id": "7-GFhwEa904F"
      },
      "source": [
        "opt = OPT(model, params)"
      ],
      "execution_count": 22,
      "outputs": []
    },
    {
      "cell_type": "code",
      "metadata": {
        "id": "ZpyDjxy691a8"
      },
      "source": [
        "inputs = {\"x\":np.random.normal(size=(100,10)),\n",
        "          \"y\":np.random.normal(size=(100,1))}"
      ],
      "execution_count": 23,
      "outputs": []
    },
    {
      "cell_type": "code",
      "metadata": {
        "id": "KOu-kgUm93Oj",
        "outputId": "8d5c482b-797d-4300-cb4c-e87cf7af9902",
        "colab": {
          "base_uri": "https://localhost:8080/"
        }
      },
      "source": [
        "losses = opt.fit(inputs, steps=1000)"
      ],
      "execution_count": 24,
      "outputs": [
        {
          "output_type": "stream",
          "text": [
            "100 190.77335\n",
            "200 129.54709\n",
            "300 107.879555\n",
            "400 99.47898\n",
            "500 95.3416\n",
            "600 92.221\n",
            "700 89.29933\n",
            "800 86.40739\n",
            "900 83.499725\n",
            "1000 80.792206\n"
          ],
          "name": "stdout"
        }
      ]
    },
    {
      "cell_type": "code",
      "metadata": {
        "colab": {
          "base_uri": "https://localhost:8080/",
          "height": 282
        },
        "id": "iQ1oKy__94vV",
        "outputId": "19306c88-3682-4241-abb3-3abc1f24c0ab"
      },
      "source": [
        "plt.plot(losses)"
      ],
      "execution_count": 25,
      "outputs": [
        {
          "output_type": "execute_result",
          "data": {
            "text/plain": [
              "[<matplotlib.lines.Line2D at 0x7f661da30ed0>]"
            ]
          },
          "metadata": {
            "tags": []
          },
          "execution_count": 25
        },
        {
          "output_type": "display_data",
          "data": {
            "image/png": "[encoded data removed]",
            "text/plain": [
              "<Figure size 432x288 with 1 Axes>"
            ]
          },
          "metadata": {
            "tags": [],
            "needs_background": "light"
          }
        }
      ]
    },
    {
      "cell_type": "code",
      "metadata": {
        "id": "wP9XttFc-N6Q"
      },
      "source": [
        ""
      ],
      "execution_count": 25,
      "outputs": []
    }
  ]
}