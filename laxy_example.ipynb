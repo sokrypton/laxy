{
  "nbformat": 4,
  "nbformat_minor": 0,
  "metadata": {
    "colab": {
      "name": "laxy_example.ipynb",
      "provenance": [],
      "authorship_tag": "ABX9TyPUjS718c6JjwxBZ/V5mKmF",
      "include_colab_link": true
    },
    "kernelspec": {
      "name": "python3",
      "display_name": "Python 3"
    },
    "language_info": {
      "name": "python"
    }
  },
  "cells": [
    {
      "cell_type": "markdown",
      "metadata": {
        "id": "view-in-github",
        "colab_type": "text"
      },
      "source": [
        "<a href=\"https://colab.research.google.com/github/sokrypton/laxy/blob/main/laxy_example.ipynb\" target=\"_parent\"><img src=\"https://colab.research.google.com/assets/colab-badge.svg\" alt=\"Open In Colab\"/></a>"
      ]
    },
    {
      "cell_type": "code",
      "metadata": {
        "id": "Z8AuNIdllasq"
      },
      "source": [
        "!wget -qnc https://raw.githubusercontent.com/sokrypton/laxy/main/laxy.py"
      ],
      "execution_count": 1,
      "outputs": []
    },
    {
      "cell_type": "code",
      "metadata": {
        "id": "55flQHoolc94"
      },
      "source": [
        "import matplotlib.pyplot as plt\n",
        "import jax.numpy as jnp\n",
        "import numpy as np\n",
        "from laxy import *"
      ],
      "execution_count": 2,
      "outputs": []
    },
    {
      "cell_type": "markdown",
      "metadata": {
        "id": "-HpW-Wz0nzRE"
      },
      "source": [
        "# LINEAR REGRESSION"
      ]
    },
    {
      "cell_type": "code",
      "metadata": {
        "colab": {
          "base_uri": "https://localhost:8080/"
        },
        "id": "oyVolJvelkEb",
        "outputId": "b83d6479-5c01-4413-f582-d56c9ed8eb9f"
      },
      "source": [
        "x = jnp.arange(10)\n",
        "y = x*2.0 + 3.0"
      ],
      "execution_count": 3,
      "outputs": [
        {
          "output_type": "stream",
          "text": [
            "WARNING:absl:No GPU/TPU found, falling back to CPU. (Set TF_CPP_MIN_LOG_LEVEL=0 and rerun for more info.)\n"
          ],
          "name": "stderr"
        }
      ]
    },
    {
      "cell_type": "code",
      "metadata": {
        "colab": {
          "base_uri": "https://localhost:8080/",
          "height": 282
        },
        "id": "wvqUeSc3lwgk",
        "outputId": "1161e8cb-3b8c-4561-b720-216b25049904"
      },
      "source": [
        "plt.scatter(x,y)"
      ],
      "execution_count": 4,
      "outputs": [
        {
          "output_type": "execute_result",
          "data": {
            "text/plain": [
              "<matplotlib.collections.PathCollection at 0x7f9daadbc8d0>"
            ]
          },
          "metadata": {
            "tags": []
          },
          "execution_count": 4
        },
        {
          "output_type": "display_data",
          "data": {
            "image/png": "[encoded data removed]",
            "text/plain": [
              "<Figure size 432x288 with 1 Axes>"
            ]
          },
          "metadata": {
            "tags": [],
            "needs_background": "light"
          }
        }
      ]
    },
    {
      "cell_type": "code",
      "metadata": {
        "id": "EzUv13lKlwvx"
      },
      "source": [
        "def model(params, inputs):\n",
        "  y = inputs[\"x\"] * params[\"m\"] + params[\"b\"]\n",
        "  loss = jnp.square(inputs[\"y\"] - y).sum()\n",
        "  return loss"
      ],
      "execution_count": 5,
      "outputs": []
    },
    {
      "cell_type": "code",
      "metadata": {
        "id": "yNYUIBi2mJq_"
      },
      "source": [
        "inputs = {\"x\":x, \"y\":y}\n",
        "params = {\"m\":1.0,\"b\":0.0}"
      ],
      "execution_count": 6,
      "outputs": []
    },
    {
      "cell_type": "code",
      "metadata": {
        "id": "ZyF0blxXlxDz"
      },
      "source": [
        "opt = OPT(model, params)"
      ],
      "execution_count": 7,
      "outputs": []
    },
    {
      "cell_type": "code",
      "metadata": {
        "colab": {
          "base_uri": "https://localhost:8080/"
        },
        "id": "j3UnYl8mmO1T",
        "outputId": "34eb6ccf-f63d-436a-d189-8ec811862c80"
      },
      "source": [
        "opt.train_on_batch(inputs)"
      ],
      "execution_count": 8,
      "outputs": [
        {
          "output_type": "execute_result",
          "data": {
            "text/plain": [
              "DeviceArray(645., dtype=float32)"
            ]
          },
          "metadata": {
            "tags": []
          },
          "execution_count": 8
        }
      ]
    },
    {
      "cell_type": "code",
      "metadata": {
        "id": "nSRHybmbmZCD"
      },
      "source": [
        "losses = []\n",
        "for n in range(10000):\n",
        "  loss = opt.train_on_batch(inputs)\n",
        "  if (n+1) % 100 == 0: \n",
        "    losses.append(loss)"
      ],
      "execution_count": 9,
      "outputs": []
    },
    {
      "cell_type": "code",
      "metadata": {
        "colab": {
          "base_uri": "https://localhost:8080/",
          "height": 282
        },
        "id": "DlLkOtaGmrVq",
        "outputId": "a94b145d-c581-4495-db6d-cb5efe0432b8"
      },
      "source": [
        "plt.plot(losses)"
      ],
      "execution_count": 10,
      "outputs": [
        {
          "output_type": "execute_result",
          "data": {
            "text/plain": [
              "[<matplotlib.lines.Line2D at 0x7f9daa021950>]"
            ]
          },
          "metadata": {
            "tags": []
          },
          "execution_count": 10
        },
        {
          "output_type": "display_data",
          "data": {
            "image/png": "[encoded data removed]",
            "text/plain": [
              "<Figure size 432x288 with 1 Axes>"
            ]
          },
          "metadata": {
            "tags": [],
            "needs_background": "light"
          }
        }
      ]
    },
    {
      "cell_type": "code",
      "metadata": {
        "colab": {
          "base_uri": "https://localhost:8080/"
        },
        "id": "WYs7W_r6msA6",
        "outputId": "1238f917-4040-4829-c910-a5913dbb6b03"
      },
      "source": [
        "opt.get_params()"
      ],
      "execution_count": 11,
      "outputs": [
        {
          "output_type": "execute_result",
          "data": {
            "text/plain": [
              "{'b': DeviceArray(2.9996283, dtype=float32),\n",
              " 'm': DeviceArray(2.000062, dtype=float32)}"
            ]
          },
          "metadata": {
            "tags": []
          },
          "execution_count": 11
        }
      ]
    },
    {
      "cell_type": "code",
      "metadata": {
        "colab": {
          "base_uri": "https://localhost:8080/"
        },
        "id": "kFWxPF6zmx2-",
        "outputId": "5bc8d3b5-526e-4586-c4a2-e2aa7e6594bc"
      },
      "source": [
        "opt.get_loss(inputs)"
      ],
      "execution_count": 12,
      "outputs": [
        {
          "output_type": "execute_result",
          "data": {
            "text/plain": [
              "DeviceArray(4.0377205e-07, dtype=float32)"
            ]
          },
          "metadata": {
            "tags": []
          },
          "execution_count": 12
        }
      ]
    },
    {
      "cell_type": "markdown",
      "metadata": {
        "id": "d3GR475Gn1Y5"
      },
      "source": [
        "# DENSE LAYER"
      ]
    },
    {
      "cell_type": "code",
      "metadata": {
        "id": "HJc2UIHVVDr-"
      },
      "source": [
        "key = KEY()"
      ],
      "execution_count": 13,
      "outputs": []
    },
    {
      "cell_type": "code",
      "metadata": {
        "id": "wm9GSpANoQcR"
      },
      "source": [
        "params = {\"D0\": Dense()(in_dims=10, out_dims=5, key=key.get()),\n",
        "          \"D1\": Dense()(in_dims=5, out_dims=1, key=key.get())}"
      ],
      "execution_count": 14,
      "outputs": []
    },
    {
      "cell_type": "code",
      "metadata": {
        "id": "Mw3nNitvm8Uu"
      },
      "source": [
        "def model(params, inputs):\n",
        "  I = inputs[\"x\"]\n",
        "  D = Dense(params[\"D0\"])(I)\n",
        "  O = Dense(params[\"D1\"])(D)\n",
        "  loss = jnp.square(O - inputs[\"y\"]).sum()\n",
        "  return loss"
      ],
      "execution_count": 15,
      "outputs": []
    },
    {
      "cell_type": "code",
      "metadata": {
        "id": "Dkg3ivN5WBkB"
      },
      "source": [
        "opt = OPT(model, params)"
      ],
      "execution_count": 16,
      "outputs": []
    },
    {
      "cell_type": "code",
      "metadata": {
        "id": "y7plGwyUWL4j"
      },
      "source": [
        "inputs = {\"x\":np.random.normal(size=(100,10)),\n",
        "          \"y\":np.random.normal(size=(100,1))}"
      ],
      "execution_count": 17,
      "outputs": []
    },
    {
      "cell_type": "code",
      "metadata": {
        "id": "8cfwvvOoWrhD"
      },
      "source": [
        "losses = []\n",
        "for n in range(1000):\n",
        "  loss = opt.train_on_batch(inputs)\n",
        "  if (n+1) % 100 == 0: \n",
        "    losses.append(loss)"
      ],
      "execution_count": 18,
      "outputs": []
    },
    {
      "cell_type": "code",
      "metadata": {
        "colab": {
          "base_uri": "https://localhost:8080/",
          "height": 282
        },
        "id": "_kqhXhgEWvPR",
        "outputId": "92aba02a-c248-4360-99bf-7d2467fcf284"
      },
      "source": [
        "plt.plot(losses)"
      ],
      "execution_count": 19,
      "outputs": [
        {
          "output_type": "execute_result",
          "data": {
            "text/plain": [
              "[<matplotlib.lines.Line2D at 0x7f9da9ee3110>]"
            ]
          },
          "metadata": {
            "tags": []
          },
          "execution_count": 19
        },
        {
          "output_type": "display_data",
          "data": {
            "image/png": "[encoded data removed]",
            "text/plain": [
              "<Figure size 432x288 with 1 Axes>"
            ]
          },
          "metadata": {
            "tags": [],
            "needs_background": "light"
          }
        }
      ]
    },
    {
      "cell_type": "markdown",
      "metadata": {
        "id": "LV-0wdfM7xaR"
      },
      "source": [
        "#STAX"
      ]
    },
    {
      "cell_type": "code",
      "metadata": {
        "id": "vIvYv9Na7yAG"
      },
      "source": [
        "from jax.experimental import stax\n",
        "key = KEY()"
      ],
      "execution_count": 20,
      "outputs": []
    },
    {
      "cell_type": "code",
      "metadata": {
        "id": "yZJ_Yvd5BLgE"
      },
      "source": [
        "stax_layers = stax.serial(stax.Dense(5),\n",
        "                          stax.Dense(1))\n",
        "nn_params, nn_layers = STAX(stax_layers, (None,10), key.get())"
      ],
      "execution_count": 21,
      "outputs": []
    },
    {
      "cell_type": "code",
      "metadata": {
        "id": "K-MH5TG78ilc"
      },
      "source": [
        "params = {\"nn\":nn_params}"
      ],
      "execution_count": 22,
      "outputs": []
    },
    {
      "cell_type": "code",
      "metadata": {
        "id": "46M-bkwv8xqe"
      },
      "source": [
        "def model(params, inputs):\n",
        "  I = inputs[\"x\"]\n",
        "  O = nn_layers(params[\"nn\"], I)\n",
        "  loss = jnp.square(O - inputs[\"y\"]).sum()\n",
        "  return loss"
      ],
      "execution_count": 27,
      "outputs": []
    },
    {
      "cell_type": "code",
      "metadata": {
        "id": "7-GFhwEa904F"
      },
      "source": [
        "opt = OPT(model, params)"
      ],
      "execution_count": 28,
      "outputs": []
    },
    {
      "cell_type": "code",
      "metadata": {
        "id": "ZpyDjxy691a8"
      },
      "source": [
        "inputs = {\"x\":np.random.normal(size=(100,10)),\n",
        "          \"y\":np.random.normal(size=(100,1))}"
      ],
      "execution_count": 29,
      "outputs": []
    },
    {
      "cell_type": "code",
      "metadata": {
        "id": "KOu-kgUm93Oj"
      },
      "source": [
        "losses = []\n",
        "for n in range(1000):\n",
        "  loss = opt.train_on_batch(inputs)\n",
        "  if (n+1) % 100 == 0: \n",
        "    losses.append(loss)"
      ],
      "execution_count": 30,
      "outputs": []
    },
    {
      "cell_type": "code",
      "metadata": {
        "colab": {
          "base_uri": "https://localhost:8080/",
          "height": 282
        },
        "id": "iQ1oKy__94vV",
        "outputId": "0c3e53fd-710f-497f-b772-28b6795d1eeb"
      },
      "source": [
        "plt.plot(losses)"
      ],
      "execution_count": 31,
      "outputs": [
        {
          "output_type": "execute_result",
          "data": {
            "text/plain": [
              "[<matplotlib.lines.Line2D at 0x7f9da7e269d0>]"
            ]
          },
          "metadata": {
            "tags": []
          },
          "execution_count": 31
        },
        {
          "output_type": "display_data",
          "data": {
            "image/png": "[encoded data removed]",
            "text/plain": [
              "<Figure size 432x288 with 1 Axes>"
            ]
          },
          "metadata": {
            "tags": [],
            "needs_background": "light"
          }
        }
      ]
    },
    {
      "cell_type": "code",
      "metadata": {
        "id": "wP9XttFc-N6Q"
      },
      "source": [
        ""
      ],
      "execution_count": null,
      "outputs": []
    }
  ]
}