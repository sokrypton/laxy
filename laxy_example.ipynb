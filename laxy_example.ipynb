{
  "nbformat": 4,
  "nbformat_minor": 0,
  "metadata": {
    "colab": {
      "name": "laxy_example.ipynb",
      "provenance": [],
      "authorship_tag": "ABX9TyMDKjpuE4pGult8uNBNhKBy",
      "include_colab_link": true
    },
    "kernelspec": {
      "name": "python3",
      "display_name": "Python 3"
    },
    "language_info": {
      "name": "python"
    }
  },
  "cells": [
    {
      "cell_type": "markdown",
      "metadata": {
        "id": "view-in-github",
        "colab_type": "text"
      },
      "source": [
        "<a href=\"https://colab.research.google.com/github/sokrypton/laxy/blob/main/laxy_example.ipynb\" target=\"_parent\"><img src=\"https://colab.research.google.com/assets/colab-badge.svg\" alt=\"Open In Colab\"/></a>"
      ]
    },
    {
      "cell_type": "code",
      "metadata": {
        "id": "Z8AuNIdllasq"
      },
      "source": [
        "!wget -qnc https://raw.githubusercontent.com/sokrypton/laxy/main/laxy.py"
      ],
      "execution_count": 1,
      "outputs": []
    },
    {
      "cell_type": "code",
      "metadata": {
        "id": "55flQHoolc94"
      },
      "source": [
        "import matplotlib.pyplot as plt\n",
        "import jax.numpy as jnp\n",
        "import numpy as np\n",
        "from laxy import *"
      ],
      "execution_count": 2,
      "outputs": []
    },
    {
      "cell_type": "markdown",
      "metadata": {
        "id": "-HpW-Wz0nzRE"
      },
      "source": [
        "# LINEAR REGRESSION"
      ]
    },
    {
      "cell_type": "code",
      "metadata": {
        "colab": {
          "base_uri": "https://localhost:8080/"
        },
        "id": "oyVolJvelkEb",
        "outputId": "31a46dd2-4887-417c-8990-d72a4ddbd3b4"
      },
      "source": [
        "x = jnp.arange(10)\n",
        "y = x*2.0 + 3.0"
      ],
      "execution_count": 3,
      "outputs": [
        {
          "output_type": "stream",
          "text": [
            "WARNING:absl:No GPU/TPU found, falling back to CPU. (Set TF_CPP_MIN_LOG_LEVEL=0 and rerun for more info.)\n"
          ],
          "name": "stderr"
        }
      ]
    },
    {
      "cell_type": "code",
      "metadata": {
        "colab": {
          "base_uri": "https://localhost:8080/",
          "height": 282
        },
        "id": "wvqUeSc3lwgk",
        "outputId": "43ac3d0e-7ce9-44e7-f83d-c243f088000b"
      },
      "source": [
        "plt.scatter(x,y)"
      ],
      "execution_count": 4,
      "outputs": [
        {
          "output_type": "execute_result",
          "data": {
            "text/plain": [
              "<matplotlib.collections.PathCollection at 0x7f6999b2ad10>"
            ]
          },
          "metadata": {
            "tags": []
          },
          "execution_count": 4
        },
        {
          "output_type": "display_data",
          "data": {
            "image/png": "[encoded data removed]",
            "text/plain": [
              "<Figure size 432x288 with 1 Axes>"
            ]
          },
          "metadata": {
            "tags": [],
            "needs_background": "light"
          }
        }
      ]
    },
    {
      "cell_type": "code",
      "metadata": {
        "id": "EzUv13lKlwvx"
      },
      "source": [
        "def model(params, inputs):\n",
        "  out = inputs[\"x\"] * params[\"m\"] + params[\"b\"]\n",
        "  loss = jnp.square(inputs[\"y\"] - out)\n",
        "  return out, loss"
      ],
      "execution_count": 5,
      "outputs": []
    },
    {
      "cell_type": "code",
      "metadata": {
        "id": "yNYUIBi2mJq_"
      },
      "source": [
        "inputs = {\"x\":x, \"y\":y}\n",
        "params = {\"m\":1.0,\"b\":0.0}"
      ],
      "execution_count": 6,
      "outputs": []
    },
    {
      "cell_type": "code",
      "metadata": {
        "id": "ZyF0blxXlxDz"
      },
      "source": [
        "opt = OPT(model, params)"
      ],
      "execution_count": 7,
      "outputs": []
    },
    {
      "cell_type": "code",
      "metadata": {
        "id": "DrB4VKfNgxyM",
        "colab": {
          "base_uri": "https://localhost:8080/"
        },
        "outputId": "2429e9c0-edec-41b7-fe4d-d6ee9108b6d3"
      },
      "source": [
        "# take one step\n",
        "opt.train_on_batch(inputs)"
      ],
      "execution_count": 8,
      "outputs": [
        {
          "output_type": "execute_result",
          "data": {
            "text/plain": [
              "DeviceArray(645., dtype=float32)"
            ]
          },
          "metadata": {
            "tags": []
          },
          "execution_count": 8
        }
      ]
    },
    {
      "cell_type": "code",
      "metadata": {
        "id": "MqLMC-83Jq6c",
        "colab": {
          "base_uri": "https://localhost:8080/"
        },
        "outputId": "fe82653b-4712-401d-942c-a6403788912e"
      },
      "source": [
        "# take multiple steps\n",
        "losses = opt.fit(inputs, steps=10000)"
      ],
      "execution_count": 9,
      "outputs": [
        {
          "output_type": "stream",
          "text": [
            "1000 97.35117\n",
            "2000 11.0169935\n",
            "3000 6.2362566\n",
            "4000 4.275576\n",
            "5000 2.3379107\n",
            "6000 0.9020636\n",
            "7000 0.20016143\n",
            "8000 0.017611317\n",
            "9000 0.00031888438\n",
            "10000 4.0625906e-07\n"
          ],
          "name": "stdout"
        }
      ]
    },
    {
      "cell_type": "code",
      "metadata": {
        "colab": {
          "base_uri": "https://localhost:8080/",
          "height": 282
        },
        "id": "DlLkOtaGmrVq",
        "outputId": "51f6daab-9df1-4ce7-a311-2cdcb4863f0b"
      },
      "source": [
        "plt.plot(losses)"
      ],
      "execution_count": 10,
      "outputs": [
        {
          "output_type": "execute_result",
          "data": {
            "text/plain": [
              "[<matplotlib.lines.Line2D at 0x7f69819a20d0>]"
            ]
          },
          "metadata": {
            "tags": []
          },
          "execution_count": 10
        },
        {
          "output_type": "display_data",
          "data": {
            "image/png": "[encoded data removed]",
            "text/plain": [
              "<Figure size 432x288 with 1 Axes>"
            ]
          },
          "metadata": {
            "tags": [],
            "needs_background": "light"
          }
        }
      ]
    },
    {
      "cell_type": "code",
      "metadata": {
        "colab": {
          "base_uri": "https://localhost:8080/"
        },
        "id": "WYs7W_r6msA6",
        "outputId": "198016b4-f331-4fb7-b17e-08546190bc63"
      },
      "source": [
        "opt.get_params()"
      ],
      "execution_count": 11,
      "outputs": [
        {
          "output_type": "execute_result",
          "data": {
            "text/plain": [
              "{'b': DeviceArray(2.9996283, dtype=float32),\n",
              " 'm': DeviceArray(2.000062, dtype=float32)}"
            ]
          },
          "metadata": {
            "tags": []
          },
          "execution_count": 11
        }
      ]
    },
    {
      "cell_type": "code",
      "metadata": {
        "colab": {
          "base_uri": "https://localhost:8080/"
        },
        "id": "kFWxPF6zmx2-",
        "outputId": "9429544d-abc6-4ab7-de5e-1f4e614bf916"
      },
      "source": [
        "opt.evaluate(inputs)"
      ],
      "execution_count": 12,
      "outputs": [
        {
          "output_type": "execute_result",
          "data": {
            "text/plain": [
              "DeviceArray([1.3815685e-07, 9.6065378e-08, 6.1481842e-08, 3.4583536e-08,\n",
              "             1.5370460e-08, 3.8426151e-09, 0.0000000e+00, 3.9617589e-09,\n",
              "             1.5370460e-08, 3.4939148e-08], dtype=float32)"
            ]
          },
          "metadata": {
            "tags": []
          },
          "execution_count": 12
        }
      ]
    },
    {
      "cell_type": "code",
      "metadata": {
        "colab": {
          "base_uri": "https://localhost:8080/"
        },
        "id": "ebMVQOEzlvIq",
        "outputId": "817ad783-969e-4970-dfa4-48df10e20ef3"
      },
      "source": [
        "opt.predict(inputs)"
      ],
      "execution_count": 13,
      "outputs": [
        {
          "output_type": "execute_result",
          "data": {
            "text/plain": [
              "DeviceArray([ 2.9996283,  4.99969  ,  6.999752 ,  8.999814 , 10.999876 ,\n",
              "             12.999938 , 15.       , 17.000063 , 19.000124 , 21.000187 ],            dtype=float32)"
            ]
          },
          "metadata": {
            "tags": []
          },
          "execution_count": 13
        }
      ]
    },
    {
      "cell_type": "code",
      "metadata": {
        "colab": {
          "base_uri": "https://localhost:8080/",
          "height": 282
        },
        "id": "ID6nY2vHlip8",
        "outputId": "56562382-31a7-458a-f485-8ca33a5f2345"
      },
      "source": [
        "plt.scatter(x,y)\n",
        "plt.plot(x,opt.predict(inputs))"
      ],
      "execution_count": 14,
      "outputs": [
        {
          "output_type": "execute_result",
          "data": {
            "text/plain": [
              "[<matplotlib.lines.Line2D at 0x7f698195f150>]"
            ]
          },
          "metadata": {
            "tags": []
          },
          "execution_count": 14
        },
        {
          "output_type": "display_data",
          "data": {
            "image/png": "[encoded data removed]",
            "text/plain": [
              "<Figure size 432x288 with 1 Axes>"
            ]
          },
          "metadata": {
            "tags": [],
            "needs_background": "light"
          }
        }
      ]
    },
    {
      "cell_type": "markdown",
      "metadata": {
        "id": "LV-0wdfM7xaR"
      },
      "source": [
        "#STAX"
      ]
    },
    {
      "cell_type": "code",
      "metadata": {
        "id": "vIvYv9Na7yAG"
      },
      "source": [
        "from jax.experimental import stax"
      ],
      "execution_count": 15,
      "outputs": []
    },
    {
      "cell_type": "code",
      "metadata": {
        "id": "yZJ_Yvd5BLgE"
      },
      "source": [
        "# define NN using stax\n",
        "stax_layers = stax.serial(stax.Dense(5),\n",
        "                          stax.Elu,\n",
        "                          stax.Dense(1))\n",
        "nn_params, nn_layers = STAX(stax_layers, input_shape=(None,10))"
      ],
      "execution_count": 16,
      "outputs": []
    },
    {
      "cell_type": "code",
      "metadata": {
        "id": "K-MH5TG78ilc"
      },
      "source": [
        "params = {\"nn\":nn_params,\n",
        "          \"a\":1.0}"
      ],
      "execution_count": 17,
      "outputs": []
    },
    {
      "cell_type": "code",
      "metadata": {
        "id": "46M-bkwv8xqe"
      },
      "source": [
        "def model(params, inputs):\n",
        "  out = nn_layers(params[\"nn\"], inputs[\"x\"]) * params[\"a\"]\n",
        "  loss = jnp.square(out - inputs[\"y\"]).sum()\n",
        "  return out,loss"
      ],
      "execution_count": 18,
      "outputs": []
    },
    {
      "cell_type": "code",
      "metadata": {
        "id": "7-GFhwEa904F"
      },
      "source": [
        "opt = OPT(model, params)"
      ],
      "execution_count": 19,
      "outputs": []
    },
    {
      "cell_type": "code",
      "metadata": {
        "id": "ZpyDjxy691a8"
      },
      "source": [
        "inputs = {\"x\":np.random.normal(size=(100,10)),\n",
        "          \"y\":np.random.normal(size=(100,1))}"
      ],
      "execution_count": 20,
      "outputs": []
    },
    {
      "cell_type": "code",
      "metadata": {
        "id": "KOu-kgUm93Oj",
        "colab": {
          "base_uri": "https://localhost:8080/"
        },
        "outputId": "b0195dab-c869-47dd-ada2-afc2dec05802"
      },
      "source": [
        "losses = opt.fit(inputs, steps=1000)"
      ],
      "execution_count": 21,
      "outputs": [
        {
          "output_type": "stream",
          "text": [
            "100 96.75622\n",
            "200 79.74332\n",
            "300 74.409195\n",
            "400 71.71596\n",
            "500 69.15565\n",
            "600 66.41028\n",
            "700 63.656925\n",
            "800 60.961185\n",
            "900 58.28481\n",
            "1000 55.672516\n"
          ],
          "name": "stdout"
        }
      ]
    },
    {
      "cell_type": "code",
      "metadata": {
        "colab": {
          "base_uri": "https://localhost:8080/",
          "height": 285
        },
        "id": "iQ1oKy__94vV",
        "outputId": "1fb844a8-40a2-4fd9-c028-e9f1931b35ea"
      },
      "source": [
        "plt.plot(losses)"
      ],
      "execution_count": 22,
      "outputs": [
        {
          "output_type": "execute_result",
          "data": {
            "text/plain": [
              "[<matplotlib.lines.Line2D at 0x7f69814794d0>]"
            ]
          },
          "metadata": {
            "tags": []
          },
          "execution_count": 22
        },
        {
          "output_type": "display_data",
          "data": {
            "image/png": "[encoded data removed]",
            "text/plain": [
              "<Figure size 432x288 with 1 Axes>"
            ]
          },
          "metadata": {
            "tags": [],
            "needs_background": "light"
          }
        }
      ]
    },
    {
      "cell_type": "markdown",
      "metadata": {
        "id": "d3GR475Gn1Y5"
      },
      "source": [
        "# build a NN using custom layers from laxy\n",
        "custom layers include: MRF, Conv1D, Conv2D, GRU, LSTM, Dense"
      ]
    },
    {
      "cell_type": "code",
      "metadata": {
        "id": "wm9GSpANoQcR"
      },
      "source": [
        "params = {\"D0\": Dense()(in_dims=10, out_dims=5),\n",
        "          \"D1\": Dense()(in_dims=5, out_dims=1, use_bias=False),\n",
        "          \"b\": 0.0}"
      ],
      "execution_count": 23,
      "outputs": []
    },
    {
      "cell_type": "code",
      "metadata": {
        "id": "Mw3nNitvm8Uu"
      },
      "source": [
        "def model(params, inputs):\n",
        "  I = inputs[\"x\"]\n",
        "  D = Dense(params[\"D0\"])(I)\n",
        "  D = jax.nn.elu(D)\n",
        "  O = Dense(params[\"D1\"])(D) + params[\"b\"]\n",
        "  loss = jnp.square(O - inputs[\"y\"]).sum()\n",
        "  return O,loss"
      ],
      "execution_count": 24,
      "outputs": []
    },
    {
      "cell_type": "code",
      "metadata": {
        "id": "Dkg3ivN5WBkB"
      },
      "source": [
        "opt = OPT(model, params)"
      ],
      "execution_count": 25,
      "outputs": []
    },
    {
      "cell_type": "code",
      "metadata": {
        "id": "y7plGwyUWL4j"
      },
      "source": [
        "inputs = {\"x\":np.random.normal(size=(100,10)),\n",
        "          \"y\":np.random.normal(size=(100,1))}"
      ],
      "execution_count": 26,
      "outputs": []
    },
    {
      "cell_type": "code",
      "metadata": {
        "id": "8cfwvvOoWrhD",
        "colab": {
          "base_uri": "https://localhost:8080/"
        },
        "outputId": "19473fc4-1202-4704-c7eb-3e11ead8f13e"
      },
      "source": [
        "%%time\n",
        "losses = opt.fit(inputs, steps=1000)"
      ],
      "execution_count": 27,
      "outputs": [
        {
          "output_type": "stream",
          "text": [
            "100 100.3432\n",
            "200 91.03594\n",
            "300 86.992874\n",
            "400 83.08254\n",
            "500 79.145004\n",
            "600 75.22479\n",
            "700 71.95487\n",
            "800 69.269966\n",
            "900 67.00843\n",
            "1000 64.98864\n",
            "CPU times: user 1.5 s, sys: 59.2 ms, total: 1.56 s\n",
            "Wall time: 1.51 s\n"
          ],
          "name": "stdout"
        }
      ]
    },
    {
      "cell_type": "code",
      "metadata": {
        "colab": {
          "base_uri": "https://localhost:8080/",
          "height": 282
        },
        "id": "_kqhXhgEWvPR",
        "outputId": "724cc215-2ba6-4ba0-bc33-f6c0ed22d7af"
      },
      "source": [
        "plt.plot(losses)"
      ],
      "execution_count": 28,
      "outputs": [
        {
          "output_type": "execute_result",
          "data": {
            "text/plain": [
              "[<matplotlib.lines.Line2D at 0x7f6980997ad0>]"
            ]
          },
          "metadata": {
            "tags": []
          },
          "execution_count": 28
        },
        {
          "output_type": "display_data",
          "data": {
            "image/png": "[encoded data removed]",
            "text/plain": [
              "<Figure size 432x288 with 1 Axes>"
            ]
          },
          "metadata": {
            "tags": [],
            "needs_background": "light"
          }
        }
      ]
    },
    {
      "cell_type": "code",
      "metadata": {
        "id": "kjmVzqpErtZH"
      },
      "source": [
        ""
      ],
      "execution_count": 28,
      "outputs": []
    }
  ]
}