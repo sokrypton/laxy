{
  "nbformat": 4,
  "nbformat_minor": 0,
  "metadata": {
    "colab": {
      "name": "laxy_example.ipynb",
      "provenance": [],
      "authorship_tag": "ABX9TyOIlx+o29MyZoI/eIWhBCKb",
      "include_colab_link": true
    },
    "kernelspec": {
      "name": "python3",
      "display_name": "Python 3"
    },
    "language_info": {
      "name": "python"
    }
  },
  "cells": [
    {
      "cell_type": "markdown",
      "metadata": {
        "id": "view-in-github",
        "colab_type": "text"
      },
      "source": [
        "<a href=\"https://colab.research.google.com/github/sokrypton/laxy/blob/main/laxy_example.ipynb\" target=\"_parent\"><img src=\"https://colab.research.google.com/assets/colab-badge.svg\" alt=\"Open In Colab\"/></a>"
      ]
    },
    {
      "cell_type": "code",
      "metadata": {
        "id": "Z8AuNIdllasq"
      },
      "source": [
        "!wget -qnc https://raw.githubusercontent.com/sokrypton/laxy/main/laxy.py"
      ],
      "execution_count": 1,
      "outputs": []
    },
    {
      "cell_type": "code",
      "metadata": {
        "id": "55flQHoolc94"
      },
      "source": [
        "import matplotlib.pyplot as plt\n",
        "import jax.numpy as jnp\n",
        "import numpy as np\n",
        "from laxy import *"
      ],
      "execution_count": 2,
      "outputs": []
    },
    {
      "cell_type": "markdown",
      "metadata": {
        "id": "-HpW-Wz0nzRE"
      },
      "source": [
        "# LINEAR REGRESSION"
      ]
    },
    {
      "cell_type": "code",
      "metadata": {
        "colab": {
          "base_uri": "https://localhost:8080/"
        },
        "id": "oyVolJvelkEb",
        "outputId": "0a19a325-5ff3-479f-df28-9980e119253a"
      },
      "source": [
        "x = jnp.arange(10)\n",
        "y = x*2.0 + 3.0"
      ],
      "execution_count": 3,
      "outputs": [
        {
          "output_type": "stream",
          "text": [
            "WARNING:absl:No GPU/TPU found, falling back to CPU. (Set TF_CPP_MIN_LOG_LEVEL=0 and rerun for more info.)\n"
          ],
          "name": "stderr"
        }
      ]
    },
    {
      "cell_type": "code",
      "metadata": {
        "colab": {
          "base_uri": "https://localhost:8080/",
          "height": 282
        },
        "id": "wvqUeSc3lwgk",
        "outputId": "0e755aae-594e-4d30-9781-ecf2a44bcd17"
      },
      "source": [
        "plt.scatter(x,y)"
      ],
      "execution_count": 4,
      "outputs": [
        {
          "output_type": "execute_result",
          "data": {
            "text/plain": [
              "<matplotlib.collections.PathCollection at 0x7fccb2126810>"
            ]
          },
          "metadata": {
            "tags": []
          },
          "execution_count": 4
        },
        {
          "output_type": "display_data",
          "data": {
            "image/png": "[encoded data removed]",
            "text/plain": [
              "<Figure size 432x288 with 1 Axes>"
            ]
          },
          "metadata": {
            "tags": [],
            "needs_background": "light"
          }
        }
      ]
    },
    {
      "cell_type": "code",
      "metadata": {
        "id": "EzUv13lKlwvx"
      },
      "source": [
        "def model(params, inputs):\n",
        "  y = inputs[\"x\"] * params[\"m\"] + params[\"b\"]\n",
        "  loss = jnp.square(inputs[\"y\"] - y).sum()\n",
        "  return loss"
      ],
      "execution_count": 5,
      "outputs": []
    },
    {
      "cell_type": "code",
      "metadata": {
        "id": "yNYUIBi2mJq_"
      },
      "source": [
        "inputs = {\"x\":x, \"y\":y}\n",
        "params = {\"m\":1.0,\"b\":0.0}"
      ],
      "execution_count": 6,
      "outputs": []
    },
    {
      "cell_type": "code",
      "metadata": {
        "id": "ZyF0blxXlxDz"
      },
      "source": [
        "opt = OPT(model, params)"
      ],
      "execution_count": 7,
      "outputs": []
    },
    {
      "cell_type": "code",
      "metadata": {
        "colab": {
          "base_uri": "https://localhost:8080/"
        },
        "id": "j3UnYl8mmO1T",
        "outputId": "6b6474b8-eb89-4daf-a974-07c5a45c8de3"
      },
      "source": [
        "opt.train_on_batch(inputs)"
      ],
      "execution_count": 8,
      "outputs": [
        {
          "output_type": "execute_result",
          "data": {
            "text/plain": [
              "DeviceArray(645., dtype=float32)"
            ]
          },
          "metadata": {
            "tags": []
          },
          "execution_count": 8
        }
      ]
    },
    {
      "cell_type": "code",
      "metadata": {
        "id": "nSRHybmbmZCD"
      },
      "source": [
        "losses = []\n",
        "for n in range(10000):\n",
        "  loss = opt.train_on_batch(inputs)\n",
        "  if (n+1) % 100 == 0: \n",
        "    losses.append(loss)"
      ],
      "execution_count": 9,
      "outputs": []
    },
    {
      "cell_type": "code",
      "metadata": {
        "colab": {
          "base_uri": "https://localhost:8080/",
          "height": 282
        },
        "id": "DlLkOtaGmrVq",
        "outputId": "0583dadb-596c-496f-c395-1a0dababd903"
      },
      "source": [
        "plt.plot(losses)"
      ],
      "execution_count": 10,
      "outputs": [
        {
          "output_type": "execute_result",
          "data": {
            "text/plain": [
              "[<matplotlib.lines.Line2D at 0x7fccb137b0d0>]"
            ]
          },
          "metadata": {
            "tags": []
          },
          "execution_count": 10
        },
        {
          "output_type": "display_data",
          "data": {
            "image/png": "[encoded data removed]",
            "text/plain": [
              "<Figure size 432x288 with 1 Axes>"
            ]
          },
          "metadata": {
            "tags": [],
            "needs_background": "light"
          }
        }
      ]
    },
    {
      "cell_type": "code",
      "metadata": {
        "colab": {
          "base_uri": "https://localhost:8080/"
        },
        "id": "WYs7W_r6msA6",
        "outputId": "0ec0663a-94df-41cc-9eaf-a748ef8c845c"
      },
      "source": [
        "opt.get_params()"
      ],
      "execution_count": 11,
      "outputs": [
        {
          "output_type": "execute_result",
          "data": {
            "text/plain": [
              "{'b': DeviceArray(2.9996283, dtype=float32),\n",
              " 'm': DeviceArray(2.000062, dtype=float32)}"
            ]
          },
          "metadata": {
            "tags": []
          },
          "execution_count": 11
        }
      ]
    },
    {
      "cell_type": "code",
      "metadata": {
        "colab": {
          "base_uri": "https://localhost:8080/"
        },
        "id": "kFWxPF6zmx2-",
        "outputId": "30b37507-2bfa-4093-9195-0fd3ddfb9e07"
      },
      "source": [
        "opt.get_loss(inputs)"
      ],
      "execution_count": 12,
      "outputs": [
        {
          "output_type": "execute_result",
          "data": {
            "text/plain": [
              "DeviceArray(4.0377205e-07, dtype=float32)"
            ]
          },
          "metadata": {
            "tags": []
          },
          "execution_count": 12
        }
      ]
    },
    {
      "cell_type": "markdown",
      "metadata": {
        "id": "d3GR475Gn1Y5"
      },
      "source": [
        "# DENSE LAYER"
      ]
    },
    {
      "cell_type": "code",
      "metadata": {
        "id": "HJc2UIHVVDr-"
      },
      "source": [
        "key = KEY()"
      ],
      "execution_count": 13,
      "outputs": []
    },
    {
      "cell_type": "code",
      "metadata": {
        "id": "wm9GSpANoQcR"
      },
      "source": [
        "params = {\"D0\": Dense()(in_dims=10, out_dims=5, key=key.get()),\n",
        "          \"D1\": Dense()(in_dims=5, out_dims=1, key=key.get())}"
      ],
      "execution_count": 14,
      "outputs": []
    },
    {
      "cell_type": "code",
      "metadata": {
        "id": "Mw3nNitvm8Uu"
      },
      "source": [
        "def model(params, inputs):\n",
        "  I = inputs[\"x\"]\n",
        "  D = Dense(params[\"D0\"])(I)\n",
        "  O = Dense(params[\"D1\"])(D)\n",
        "  loss = jnp.square(O - inputs[\"y\"]).sum()\n",
        "  return loss"
      ],
      "execution_count": 15,
      "outputs": []
    },
    {
      "cell_type": "code",
      "metadata": {
        "id": "Dkg3ivN5WBkB"
      },
      "source": [
        "opt = OPT(model, params)"
      ],
      "execution_count": 16,
      "outputs": []
    },
    {
      "cell_type": "code",
      "metadata": {
        "id": "y7plGwyUWL4j"
      },
      "source": [
        "inputs = {\"x\":np.random.normal(size=(100,10)),\n",
        "          \"y\":np.random.normal(size=(100,1))}"
      ],
      "execution_count": 17,
      "outputs": []
    },
    {
      "cell_type": "code",
      "metadata": {
        "id": "8cfwvvOoWrhD"
      },
      "source": [
        "losses = []\n",
        "for n in range(1000):\n",
        "  loss = opt.train_on_batch(inputs)\n",
        "  if (n+1) % 100 == 0: \n",
        "    losses.append(loss)"
      ],
      "execution_count": 18,
      "outputs": []
    },
    {
      "cell_type": "code",
      "metadata": {
        "colab": {
          "base_uri": "https://localhost:8080/",
          "height": 282
        },
        "id": "_kqhXhgEWvPR",
        "outputId": "4909081b-5301-45b3-f44b-135f8b39f186"
      },
      "source": [
        "plt.plot(losses)"
      ],
      "execution_count": 19,
      "outputs": [
        {
          "output_type": "execute_result",
          "data": {
            "text/plain": [
              "[<matplotlib.lines.Line2D at 0x7fccb0a425d0>]"
            ]
          },
          "metadata": {
            "tags": []
          },
          "execution_count": 19
        },
        {
          "output_type": "display_data",
          "data": {
            "image/png": "[encoded data removed]",
            "text/plain": [
              "<Figure size 432x288 with 1 Axes>"
            ]
          },
          "metadata": {
            "tags": [],
            "needs_background": "light"
          }
        }
      ]
    },
    {
      "cell_type": "markdown",
      "metadata": {
        "id": "LV-0wdfM7xaR"
      },
      "source": [
        "#STAX"
      ]
    },
    {
      "cell_type": "code",
      "metadata": {
        "id": "vIvYv9Na7yAG"
      },
      "source": [
        "from jax.experimental import stax\n",
        "key = KEY()"
      ],
      "execution_count": 20,
      "outputs": []
    },
    {
      "cell_type": "code",
      "metadata": {
        "id": "gXnA-rU08JUD"
      },
      "source": [
        "init_params, nn_model = stax.serial(stax.Dense(5),\n",
        "                                    stax.Dense(1))"
      ],
      "execution_count": 21,
      "outputs": []
    },
    {
      "cell_type": "code",
      "metadata": {
        "id": "K-MH5TG78ilc"
      },
      "source": [
        "params = {\"nn\":init_params(key.get(),(None,10))[1]}"
      ],
      "execution_count": 22,
      "outputs": []
    },
    {
      "cell_type": "code",
      "metadata": {
        "id": "46M-bkwv8xqe"
      },
      "source": [
        "def model(params, inputs):\n",
        "  I = inputs[\"x\"]\n",
        "  O = nn_model(params[\"nn\"], I)\n",
        "  loss = jnp.square(O - inputs[\"y\"]).sum()\n",
        "  return loss"
      ],
      "execution_count": 23,
      "outputs": []
    },
    {
      "cell_type": "code",
      "metadata": {
        "id": "7-GFhwEa904F"
      },
      "source": [
        "opt = OPT(model, params)"
      ],
      "execution_count": 24,
      "outputs": []
    },
    {
      "cell_type": "code",
      "metadata": {
        "id": "ZpyDjxy691a8"
      },
      "source": [
        "inputs = {\"x\":np.random.normal(size=(100,10)),\n",
        "          \"y\":np.random.normal(size=(100,1))}"
      ],
      "execution_count": 25,
      "outputs": []
    },
    {
      "cell_type": "code",
      "metadata": {
        "id": "KOu-kgUm93Oj"
      },
      "source": [
        "losses = []\n",
        "for n in range(1000):\n",
        "  loss = opt.train_on_batch(inputs)\n",
        "  if (n+1) % 100 == 0: \n",
        "    losses.append(loss)"
      ],
      "execution_count": 26,
      "outputs": []
    },
    {
      "cell_type": "code",
      "metadata": {
        "id": "iQ1oKy__94vV",
        "outputId": "be8d169b-f3ed-4783-e4d2-bdae32445263",
        "colab": {
          "base_uri": "https://localhost:8080/",
          "height": 282
        }
      },
      "source": [
        "plt.plot(losses)"
      ],
      "execution_count": 27,
      "outputs": [
        {
          "output_type": "execute_result",
          "data": {
            "text/plain": [
              "[<matplotlib.lines.Line2D at 0x7fccb0447c50>]"
            ]
          },
          "metadata": {
            "tags": []
          },
          "execution_count": 27
        },
        {
          "output_type": "display_data",
          "data": {
            "image/png": "[encoded data removed]",
            "text/plain": [
              "<Figure size 432x288 with 1 Axes>"
            ]
          },
          "metadata": {
            "tags": [],
            "needs_background": "light"
          }
        }
      ]
    },
    {
      "cell_type": "code",
      "metadata": {
        "id": "wP9XttFc-N6Q"
      },
      "source": [
        ""
      ],
      "execution_count": 27,
      "outputs": []
    }
  ]
}